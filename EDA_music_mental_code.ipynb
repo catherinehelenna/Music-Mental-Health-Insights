{
 "cells": [
  {
   "cell_type": "markdown",
   "metadata": {},
   "source": [
    "# Exploring the Potential Benefits of Music on Mental Health and Anxiety: A 2022 Survey Analysis"
   ]
  },
  {
   "cell_type": "markdown",
   "metadata": {},
   "source": [
    "## I. Background"
   ]
  },
  {
   "cell_type": "markdown",
   "metadata": {},
   "source": [
    "### I.I Objective\n",
    "The purpose of this study is to explore how music can give positive impact on mental well-being, specifically to youth and adults aged less than 40 years old.\n",
    "    "
   ]
  },
  {
   "cell_type": "markdown",
   "metadata": {},
   "source": [
    "### I.II About Datasets\n",
    "We have two datasets for this study:  \n",
    "\n",
    "  a. Music & Mental Health Survey Results (main dataset) on 2022.    \n",
    "* The survey provides behavioral and psychological information of participants related to listening to music.  \n",
    "\n",
    "b. Global Mental Health Problem (supplementary 2).  \n",
    "* The data shows the share of population with mental health problems in countries in 2021.\n",
    "* The mental health problems include depression, anxiety, insomnia, ocd, and schizorphenia."
   ]
  },
  {
   "cell_type": "markdown",
   "metadata": {},
   "source": [
    "### I.III Exploratory Data Analysis Focus  \n",
    "A. General Overview  \n",
    "1. What's the overall situation for global mental health problem in 2021 and trend over years?\n",
    "2. How's the distribution of population in survey based on age?\n",
    "\n",
    "B. Focused Analysis\n",
    "1. How's the proportion of population believing music improves their mental health?  \n",
    "2. Which mental health problem is most frequent in the population?\n",
    "3. Is there any correlation between the mental health problems?\n",
    "4. Musical Exploration and Mental Health: Insights from Anxiety Frequency Distributions\n",
    "5. Evaluation of Music Effect on Mental Health Based on Music Exploratory Behavior\n",
    "6. Statistical Analyses to Confirm Impact of Music Exploratory Behavior on Mental Health\n",
    "7. Association Between Music Genres and Anxiety\n",
    "8. Correlation Between Music Effect and Frequency of Hearing Music Genres"
   ]
  },
  {
   "cell_type": "markdown",
   "metadata": {},
   "source": [
    "## II. Data Preparation"
   ]
  },
  {
   "cell_type": "markdown",
   "metadata": {},
   "source": [
    "### II.I Import Libraries"
   ]
  },
  {
   "cell_type": "code",
   "execution_count": 91,
   "metadata": {},
   "outputs": [],
   "source": [
    "# data wrangling and statistical tests\n",
    "import pandas as pd\n",
    "from sklearn.impute import SimpleImputer\n",
    "from scipy.stats import chi2_contingency, spearmanr,kruskal\n",
    "\n",
    "# main data visualization tools\n",
    "import matplotlib.pyplot as plt\n",
    "import seaborn as sns\n",
    "\n",
    "# supplement data visualization\n",
    "import plotly.express as px\n"
   ]
  },
  {
   "cell_type": "markdown",
   "metadata": {},
   "source": [
    "### II.II Data Loading"
   ]
  },
  {
   "cell_type": "markdown",
   "metadata": {},
   "source": [
    "#### Main Dataset: Relationship between Mental Health and Music\n",
    "`about`: Survey on Music Effect to Mental Health, Preference to Music Genres, and Behaviours"
   ]
  },
  {
   "cell_type": "code",
   "execution_count": 47,
   "metadata": {},
   "outputs": [
    {
     "data": {
      "text/html": [
       "<div>\n",
       "<style scoped>\n",
       "    .dataframe tbody tr th:only-of-type {\n",
       "        vertical-align: middle;\n",
       "    }\n",
       "\n",
       "    .dataframe tbody tr th {\n",
       "        vertical-align: top;\n",
       "    }\n",
       "\n",
       "    .dataframe thead th {\n",
       "        text-align: right;\n",
       "    }\n",
       "</style>\n",
       "<table border=\"1\" class=\"dataframe\">\n",
       "  <thead>\n",
       "    <tr style=\"text-align: right;\">\n",
       "      <th></th>\n",
       "      <th>Timestamp</th>\n",
       "      <th>Age</th>\n",
       "      <th>Primary streaming service</th>\n",
       "      <th>Hours per day</th>\n",
       "      <th>While working</th>\n",
       "      <th>Instrumentalist</th>\n",
       "      <th>Composer</th>\n",
       "      <th>Fav genre</th>\n",
       "      <th>Exploratory</th>\n",
       "      <th>Foreign languages</th>\n",
       "      <th>...</th>\n",
       "      <th>Frequency [R&amp;B]</th>\n",
       "      <th>Frequency [Rap]</th>\n",
       "      <th>Frequency [Rock]</th>\n",
       "      <th>Frequency [Video game music]</th>\n",
       "      <th>Anxiety</th>\n",
       "      <th>Depression</th>\n",
       "      <th>Insomnia</th>\n",
       "      <th>OCD</th>\n",
       "      <th>Music effects</th>\n",
       "      <th>Permissions</th>\n",
       "    </tr>\n",
       "  </thead>\n",
       "  <tbody>\n",
       "    <tr>\n",
       "      <th>0</th>\n",
       "      <td>8/27/2022 19:29:02</td>\n",
       "      <td>18.0</td>\n",
       "      <td>Spotify</td>\n",
       "      <td>3.0</td>\n",
       "      <td>Yes</td>\n",
       "      <td>Yes</td>\n",
       "      <td>Yes</td>\n",
       "      <td>Latin</td>\n",
       "      <td>Yes</td>\n",
       "      <td>Yes</td>\n",
       "      <td>...</td>\n",
       "      <td>Sometimes</td>\n",
       "      <td>Very frequently</td>\n",
       "      <td>Never</td>\n",
       "      <td>Sometimes</td>\n",
       "      <td>3.0</td>\n",
       "      <td>0.0</td>\n",
       "      <td>1.0</td>\n",
       "      <td>0.0</td>\n",
       "      <td>NaN</td>\n",
       "      <td>I understand.</td>\n",
       "    </tr>\n",
       "    <tr>\n",
       "      <th>1</th>\n",
       "      <td>8/27/2022 19:57:31</td>\n",
       "      <td>63.0</td>\n",
       "      <td>Pandora</td>\n",
       "      <td>1.5</td>\n",
       "      <td>Yes</td>\n",
       "      <td>No</td>\n",
       "      <td>No</td>\n",
       "      <td>Rock</td>\n",
       "      <td>Yes</td>\n",
       "      <td>No</td>\n",
       "      <td>...</td>\n",
       "      <td>Sometimes</td>\n",
       "      <td>Rarely</td>\n",
       "      <td>Very frequently</td>\n",
       "      <td>Rarely</td>\n",
       "      <td>7.0</td>\n",
       "      <td>2.0</td>\n",
       "      <td>2.0</td>\n",
       "      <td>1.0</td>\n",
       "      <td>NaN</td>\n",
       "      <td>I understand.</td>\n",
       "    </tr>\n",
       "    <tr>\n",
       "      <th>2</th>\n",
       "      <td>8/27/2022 21:28:18</td>\n",
       "      <td>18.0</td>\n",
       "      <td>Spotify</td>\n",
       "      <td>4.0</td>\n",
       "      <td>No</td>\n",
       "      <td>No</td>\n",
       "      <td>No</td>\n",
       "      <td>Video game music</td>\n",
       "      <td>No</td>\n",
       "      <td>Yes</td>\n",
       "      <td>...</td>\n",
       "      <td>Never</td>\n",
       "      <td>Rarely</td>\n",
       "      <td>Rarely</td>\n",
       "      <td>Very frequently</td>\n",
       "      <td>7.0</td>\n",
       "      <td>7.0</td>\n",
       "      <td>10.0</td>\n",
       "      <td>2.0</td>\n",
       "      <td>No effect</td>\n",
       "      <td>I understand.</td>\n",
       "    </tr>\n",
       "    <tr>\n",
       "      <th>3</th>\n",
       "      <td>8/27/2022 21:40:40</td>\n",
       "      <td>61.0</td>\n",
       "      <td>YouTube Music</td>\n",
       "      <td>2.5</td>\n",
       "      <td>Yes</td>\n",
       "      <td>No</td>\n",
       "      <td>Yes</td>\n",
       "      <td>Jazz</td>\n",
       "      <td>Yes</td>\n",
       "      <td>Yes</td>\n",
       "      <td>...</td>\n",
       "      <td>Sometimes</td>\n",
       "      <td>Never</td>\n",
       "      <td>Never</td>\n",
       "      <td>Never</td>\n",
       "      <td>9.0</td>\n",
       "      <td>7.0</td>\n",
       "      <td>3.0</td>\n",
       "      <td>3.0</td>\n",
       "      <td>Improve</td>\n",
       "      <td>I understand.</td>\n",
       "    </tr>\n",
       "    <tr>\n",
       "      <th>4</th>\n",
       "      <td>8/27/2022 21:54:47</td>\n",
       "      <td>18.0</td>\n",
       "      <td>Spotify</td>\n",
       "      <td>4.0</td>\n",
       "      <td>Yes</td>\n",
       "      <td>No</td>\n",
       "      <td>No</td>\n",
       "      <td>R&amp;B</td>\n",
       "      <td>Yes</td>\n",
       "      <td>No</td>\n",
       "      <td>...</td>\n",
       "      <td>Very frequently</td>\n",
       "      <td>Very frequently</td>\n",
       "      <td>Never</td>\n",
       "      <td>Rarely</td>\n",
       "      <td>7.0</td>\n",
       "      <td>2.0</td>\n",
       "      <td>5.0</td>\n",
       "      <td>9.0</td>\n",
       "      <td>Improve</td>\n",
       "      <td>I understand.</td>\n",
       "    </tr>\n",
       "  </tbody>\n",
       "</table>\n",
       "<p>5 rows × 33 columns</p>\n",
       "</div>"
      ],
      "text/plain": [
       "            Timestamp   Age Primary streaming service  Hours per day  \\\n",
       "0  8/27/2022 19:29:02  18.0                   Spotify            3.0   \n",
       "1  8/27/2022 19:57:31  63.0                   Pandora            1.5   \n",
       "2  8/27/2022 21:28:18  18.0                   Spotify            4.0   \n",
       "3  8/27/2022 21:40:40  61.0             YouTube Music            2.5   \n",
       "4  8/27/2022 21:54:47  18.0                   Spotify            4.0   \n",
       "\n",
       "  While working Instrumentalist Composer         Fav genre Exploratory  \\\n",
       "0           Yes             Yes      Yes             Latin         Yes   \n",
       "1           Yes              No       No              Rock         Yes   \n",
       "2            No              No       No  Video game music          No   \n",
       "3           Yes              No      Yes              Jazz         Yes   \n",
       "4           Yes              No       No               R&B         Yes   \n",
       "\n",
       "  Foreign languages  ...  Frequency [R&B]  Frequency [Rap] Frequency [Rock]  \\\n",
       "0               Yes  ...        Sometimes  Very frequently            Never   \n",
       "1                No  ...        Sometimes           Rarely  Very frequently   \n",
       "2               Yes  ...            Never           Rarely           Rarely   \n",
       "3               Yes  ...        Sometimes            Never            Never   \n",
       "4                No  ...  Very frequently  Very frequently            Never   \n",
       "\n",
       "  Frequency [Video game music] Anxiety Depression Insomnia  OCD Music effects  \\\n",
       "0                    Sometimes     3.0        0.0      1.0  0.0           NaN   \n",
       "1                       Rarely     7.0        2.0      2.0  1.0           NaN   \n",
       "2              Very frequently     7.0        7.0     10.0  2.0     No effect   \n",
       "3                        Never     9.0        7.0      3.0  3.0       Improve   \n",
       "4                       Rarely     7.0        2.0      5.0  9.0       Improve   \n",
       "\n",
       "     Permissions  \n",
       "0  I understand.  \n",
       "1  I understand.  \n",
       "2  I understand.  \n",
       "3  I understand.  \n",
       "4  I understand.  \n",
       "\n",
       "[5 rows x 33 columns]"
      ]
     },
     "execution_count": 47,
     "metadata": {},
     "output_type": "execute_result"
    }
   ],
   "source": [
    "# read the csv file\n",
    "music_mental_health_data = pd.read_csv('mxmh_survey_results.csv')\n",
    "music_mental_health_data.head()"
   ]
  },
  {
   "cell_type": "code",
   "execution_count": 48,
   "metadata": {},
   "outputs": [
    {
     "name": "stdout",
     "output_type": "stream",
     "text": [
      "<class 'pandas.core.frame.DataFrame'>\n",
      "RangeIndex: 736 entries, 0 to 735\n",
      "Data columns (total 33 columns):\n",
      " #   Column                        Non-Null Count  Dtype  \n",
      "---  ------                        --------------  -----  \n",
      " 0   Timestamp                     736 non-null    object \n",
      " 1   Age                           735 non-null    float64\n",
      " 2   Primary streaming service     735 non-null    object \n",
      " 3   Hours per day                 736 non-null    float64\n",
      " 4   While working                 733 non-null    object \n",
      " 5   Instrumentalist               732 non-null    object \n",
      " 6   Composer                      735 non-null    object \n",
      " 7   Fav genre                     736 non-null    object \n",
      " 8   Exploratory                   736 non-null    object \n",
      " 9   Foreign languages             732 non-null    object \n",
      " 10  BPM                           629 non-null    float64\n",
      " 11  Frequency [Classical]         736 non-null    object \n",
      " 12  Frequency [Country]           736 non-null    object \n",
      " 13  Frequency [EDM]               736 non-null    object \n",
      " 14  Frequency [Folk]              736 non-null    object \n",
      " 15  Frequency [Gospel]            736 non-null    object \n",
      " 16  Frequency [Hip hop]           736 non-null    object \n",
      " 17  Frequency [Jazz]              736 non-null    object \n",
      " 18  Frequency [K pop]             736 non-null    object \n",
      " 19  Frequency [Latin]             736 non-null    object \n",
      " 20  Frequency [Lofi]              736 non-null    object \n",
      " 21  Frequency [Metal]             736 non-null    object \n",
      " 22  Frequency [Pop]               736 non-null    object \n",
      " 23  Frequency [R&B]               736 non-null    object \n",
      " 24  Frequency [Rap]               736 non-null    object \n",
      " 25  Frequency [Rock]              736 non-null    object \n",
      " 26  Frequency [Video game music]  736 non-null    object \n",
      " 27  Anxiety                       736 non-null    float64\n",
      " 28  Depression                    736 non-null    float64\n",
      " 29  Insomnia                      736 non-null    float64\n",
      " 30  OCD                           736 non-null    float64\n",
      " 31  Music effects                 728 non-null    object \n",
      " 32  Permissions                   736 non-null    object \n",
      "dtypes: float64(7), object(26)\n",
      "memory usage: 189.9+ KB\n"
     ]
    }
   ],
   "source": [
    "# show information about the data\n",
    "music_mental_health_data.info()"
   ]
  },
  {
   "cell_type": "code",
   "execution_count": 49,
   "metadata": {},
   "outputs": [
    {
     "data": {
      "text/html": [
       "<div>\n",
       "<style scoped>\n",
       "    .dataframe tbody tr th:only-of-type {\n",
       "        vertical-align: middle;\n",
       "    }\n",
       "\n",
       "    .dataframe tbody tr th {\n",
       "        vertical-align: top;\n",
       "    }\n",
       "\n",
       "    .dataframe thead th {\n",
       "        text-align: right;\n",
       "    }\n",
       "</style>\n",
       "<table border=\"1\" class=\"dataframe\">\n",
       "  <thead>\n",
       "    <tr style=\"text-align: right;\">\n",
       "      <th></th>\n",
       "      <th>Timestamp</th>\n",
       "      <th>Primary streaming service</th>\n",
       "      <th>While working</th>\n",
       "      <th>Instrumentalist</th>\n",
       "      <th>Composer</th>\n",
       "      <th>Fav genre</th>\n",
       "      <th>Exploratory</th>\n",
       "      <th>Foreign languages</th>\n",
       "      <th>Frequency [Classical]</th>\n",
       "      <th>Frequency [Country]</th>\n",
       "      <th>...</th>\n",
       "      <th>Frequency [Latin]</th>\n",
       "      <th>Frequency [Lofi]</th>\n",
       "      <th>Frequency [Metal]</th>\n",
       "      <th>Frequency [Pop]</th>\n",
       "      <th>Frequency [R&amp;B]</th>\n",
       "      <th>Frequency [Rap]</th>\n",
       "      <th>Frequency [Rock]</th>\n",
       "      <th>Frequency [Video game music]</th>\n",
       "      <th>Music effects</th>\n",
       "      <th>Permissions</th>\n",
       "    </tr>\n",
       "  </thead>\n",
       "  <tbody>\n",
       "    <tr>\n",
       "      <th>count</th>\n",
       "      <td>736</td>\n",
       "      <td>735</td>\n",
       "      <td>733</td>\n",
       "      <td>732</td>\n",
       "      <td>735</td>\n",
       "      <td>736</td>\n",
       "      <td>736</td>\n",
       "      <td>732</td>\n",
       "      <td>736</td>\n",
       "      <td>736</td>\n",
       "      <td>...</td>\n",
       "      <td>736</td>\n",
       "      <td>736</td>\n",
       "      <td>736</td>\n",
       "      <td>736</td>\n",
       "      <td>736</td>\n",
       "      <td>736</td>\n",
       "      <td>736</td>\n",
       "      <td>736</td>\n",
       "      <td>728</td>\n",
       "      <td>736</td>\n",
       "    </tr>\n",
       "    <tr>\n",
       "      <th>unique</th>\n",
       "      <td>735</td>\n",
       "      <td>6</td>\n",
       "      <td>2</td>\n",
       "      <td>2</td>\n",
       "      <td>2</td>\n",
       "      <td>16</td>\n",
       "      <td>2</td>\n",
       "      <td>2</td>\n",
       "      <td>4</td>\n",
       "      <td>4</td>\n",
       "      <td>...</td>\n",
       "      <td>4</td>\n",
       "      <td>4</td>\n",
       "      <td>4</td>\n",
       "      <td>4</td>\n",
       "      <td>4</td>\n",
       "      <td>4</td>\n",
       "      <td>4</td>\n",
       "      <td>4</td>\n",
       "      <td>3</td>\n",
       "      <td>1</td>\n",
       "    </tr>\n",
       "    <tr>\n",
       "      <th>top</th>\n",
       "      <td>8/28/2022 16:15:08</td>\n",
       "      <td>Spotify</td>\n",
       "      <td>Yes</td>\n",
       "      <td>No</td>\n",
       "      <td>No</td>\n",
       "      <td>Rock</td>\n",
       "      <td>Yes</td>\n",
       "      <td>Yes</td>\n",
       "      <td>Rarely</td>\n",
       "      <td>Never</td>\n",
       "      <td>...</td>\n",
       "      <td>Never</td>\n",
       "      <td>Never</td>\n",
       "      <td>Never</td>\n",
       "      <td>Very frequently</td>\n",
       "      <td>Never</td>\n",
       "      <td>Rarely</td>\n",
       "      <td>Very frequently</td>\n",
       "      <td>Never</td>\n",
       "      <td>Improve</td>\n",
       "      <td>I understand.</td>\n",
       "    </tr>\n",
       "    <tr>\n",
       "      <th>freq</th>\n",
       "      <td>2</td>\n",
       "      <td>458</td>\n",
       "      <td>579</td>\n",
       "      <td>497</td>\n",
       "      <td>609</td>\n",
       "      <td>188</td>\n",
       "      <td>525</td>\n",
       "      <td>404</td>\n",
       "      <td>259</td>\n",
       "      <td>343</td>\n",
       "      <td>...</td>\n",
       "      <td>443</td>\n",
       "      <td>280</td>\n",
       "      <td>264</td>\n",
       "      <td>277</td>\n",
       "      <td>225</td>\n",
       "      <td>215</td>\n",
       "      <td>330</td>\n",
       "      <td>236</td>\n",
       "      <td>542</td>\n",
       "      <td>736</td>\n",
       "    </tr>\n",
       "  </tbody>\n",
       "</table>\n",
       "<p>4 rows × 26 columns</p>\n",
       "</div>"
      ],
      "text/plain": [
       "                 Timestamp Primary streaming service While working  \\\n",
       "count                  736                       735           733   \n",
       "unique                 735                         6             2   \n",
       "top     8/28/2022 16:15:08                   Spotify           Yes   \n",
       "freq                     2                       458           579   \n",
       "\n",
       "       Instrumentalist Composer Fav genre Exploratory Foreign languages  \\\n",
       "count              732      735       736         736               732   \n",
       "unique               2        2        16           2                 2   \n",
       "top                 No       No      Rock         Yes               Yes   \n",
       "freq               497      609       188         525               404   \n",
       "\n",
       "       Frequency [Classical] Frequency [Country]  ... Frequency [Latin]  \\\n",
       "count                    736                 736  ...               736   \n",
       "unique                     4                   4  ...                 4   \n",
       "top                   Rarely               Never  ...             Never   \n",
       "freq                     259                 343  ...               443   \n",
       "\n",
       "       Frequency [Lofi] Frequency [Metal]  Frequency [Pop] Frequency [R&B]  \\\n",
       "count               736               736              736             736   \n",
       "unique                4                 4                4               4   \n",
       "top               Never             Never  Very frequently           Never   \n",
       "freq                280               264              277             225   \n",
       "\n",
       "       Frequency [Rap] Frequency [Rock] Frequency [Video game music]  \\\n",
       "count              736              736                          736   \n",
       "unique               4                4                            4   \n",
       "top             Rarely  Very frequently                        Never   \n",
       "freq               215              330                          236   \n",
       "\n",
       "       Music effects    Permissions  \n",
       "count            728            736  \n",
       "unique             3              1  \n",
       "top          Improve  I understand.  \n",
       "freq             542            736  \n",
       "\n",
       "[4 rows x 26 columns]"
      ]
     },
     "execution_count": 49,
     "metadata": {},
     "output_type": "execute_result"
    }
   ],
   "source": [
    "# check general statistics of the data (categorical data)\n",
    "music_mental_health_data.describe(include='object')"
   ]
  },
  {
   "cell_type": "code",
   "execution_count": 50,
   "metadata": {},
   "outputs": [
    {
     "data": {
      "text/html": [
       "<div>\n",
       "<style scoped>\n",
       "    .dataframe tbody tr th:only-of-type {\n",
       "        vertical-align: middle;\n",
       "    }\n",
       "\n",
       "    .dataframe tbody tr th {\n",
       "        vertical-align: top;\n",
       "    }\n",
       "\n",
       "    .dataframe thead th {\n",
       "        text-align: right;\n",
       "    }\n",
       "</style>\n",
       "<table border=\"1\" class=\"dataframe\">\n",
       "  <thead>\n",
       "    <tr style=\"text-align: right;\">\n",
       "      <th></th>\n",
       "      <th>Age</th>\n",
       "      <th>Hours per day</th>\n",
       "      <th>BPM</th>\n",
       "      <th>Anxiety</th>\n",
       "      <th>Depression</th>\n",
       "      <th>Insomnia</th>\n",
       "      <th>OCD</th>\n",
       "    </tr>\n",
       "  </thead>\n",
       "  <tbody>\n",
       "    <tr>\n",
       "      <th>count</th>\n",
       "      <td>735.000000</td>\n",
       "      <td>736.000000</td>\n",
       "      <td>6.290000e+02</td>\n",
       "      <td>736.000000</td>\n",
       "      <td>736.000000</td>\n",
       "      <td>736.000000</td>\n",
       "      <td>736.000000</td>\n",
       "    </tr>\n",
       "    <tr>\n",
       "      <th>mean</th>\n",
       "      <td>25.206803</td>\n",
       "      <td>3.572758</td>\n",
       "      <td>1.589948e+06</td>\n",
       "      <td>5.837636</td>\n",
       "      <td>4.796196</td>\n",
       "      <td>3.738451</td>\n",
       "      <td>2.637228</td>\n",
       "    </tr>\n",
       "    <tr>\n",
       "      <th>std</th>\n",
       "      <td>12.054970</td>\n",
       "      <td>3.028199</td>\n",
       "      <td>3.987261e+07</td>\n",
       "      <td>2.793054</td>\n",
       "      <td>3.028870</td>\n",
       "      <td>3.088689</td>\n",
       "      <td>2.842017</td>\n",
       "    </tr>\n",
       "    <tr>\n",
       "      <th>min</th>\n",
       "      <td>10.000000</td>\n",
       "      <td>0.000000</td>\n",
       "      <td>0.000000e+00</td>\n",
       "      <td>0.000000</td>\n",
       "      <td>0.000000</td>\n",
       "      <td>0.000000</td>\n",
       "      <td>0.000000</td>\n",
       "    </tr>\n",
       "    <tr>\n",
       "      <th>25%</th>\n",
       "      <td>18.000000</td>\n",
       "      <td>2.000000</td>\n",
       "      <td>1.000000e+02</td>\n",
       "      <td>4.000000</td>\n",
       "      <td>2.000000</td>\n",
       "      <td>1.000000</td>\n",
       "      <td>0.000000</td>\n",
       "    </tr>\n",
       "    <tr>\n",
       "      <th>50%</th>\n",
       "      <td>21.000000</td>\n",
       "      <td>3.000000</td>\n",
       "      <td>1.200000e+02</td>\n",
       "      <td>6.000000</td>\n",
       "      <td>5.000000</td>\n",
       "      <td>3.000000</td>\n",
       "      <td>2.000000</td>\n",
       "    </tr>\n",
       "    <tr>\n",
       "      <th>75%</th>\n",
       "      <td>28.000000</td>\n",
       "      <td>5.000000</td>\n",
       "      <td>1.440000e+02</td>\n",
       "      <td>8.000000</td>\n",
       "      <td>7.000000</td>\n",
       "      <td>6.000000</td>\n",
       "      <td>5.000000</td>\n",
       "    </tr>\n",
       "    <tr>\n",
       "      <th>max</th>\n",
       "      <td>89.000000</td>\n",
       "      <td>24.000000</td>\n",
       "      <td>1.000000e+09</td>\n",
       "      <td>10.000000</td>\n",
       "      <td>10.000000</td>\n",
       "      <td>10.000000</td>\n",
       "      <td>10.000000</td>\n",
       "    </tr>\n",
       "  </tbody>\n",
       "</table>\n",
       "</div>"
      ],
      "text/plain": [
       "              Age  Hours per day           BPM     Anxiety  Depression  \\\n",
       "count  735.000000     736.000000  6.290000e+02  736.000000  736.000000   \n",
       "mean    25.206803       3.572758  1.589948e+06    5.837636    4.796196   \n",
       "std     12.054970       3.028199  3.987261e+07    2.793054    3.028870   \n",
       "min     10.000000       0.000000  0.000000e+00    0.000000    0.000000   \n",
       "25%     18.000000       2.000000  1.000000e+02    4.000000    2.000000   \n",
       "50%     21.000000       3.000000  1.200000e+02    6.000000    5.000000   \n",
       "75%     28.000000       5.000000  1.440000e+02    8.000000    7.000000   \n",
       "max     89.000000      24.000000  1.000000e+09   10.000000   10.000000   \n",
       "\n",
       "         Insomnia         OCD  \n",
       "count  736.000000  736.000000  \n",
       "mean     3.738451    2.637228  \n",
       "std      3.088689    2.842017  \n",
       "min      0.000000    0.000000  \n",
       "25%      1.000000    0.000000  \n",
       "50%      3.000000    2.000000  \n",
       "75%      6.000000    5.000000  \n",
       "max     10.000000   10.000000  "
      ]
     },
     "execution_count": 50,
     "metadata": {},
     "output_type": "execute_result"
    }
   ],
   "source": [
    "# check statistics of the data\n",
    "music_mental_health_data.describe()"
   ]
  },
  {
   "cell_type": "markdown",
   "metadata": {},
   "source": [
    "#### Insights:\n",
    "- Data cleaning is needed to reformat the column names and handle missing values."
   ]
  },
  {
   "cell_type": "markdown",
   "metadata": {},
   "source": [
    "#### Supplement Datasets: Global Mental Health in 2021 and Global Trends\n",
    "- Proportion of people with mental health problems in 100 samples per country."
   ]
  },
  {
   "cell_type": "code",
   "execution_count": 51,
   "metadata": {},
   "outputs": [
    {
     "data": {
      "text/html": [
       "<div>\n",
       "<style scoped>\n",
       "    .dataframe tbody tr th:only-of-type {\n",
       "        vertical-align: middle;\n",
       "    }\n",
       "\n",
       "    .dataframe tbody tr th {\n",
       "        vertical-align: top;\n",
       "    }\n",
       "\n",
       "    .dataframe thead th {\n",
       "        text-align: right;\n",
       "    }\n",
       "</style>\n",
       "<table border=\"1\" class=\"dataframe\">\n",
       "  <thead>\n",
       "    <tr style=\"text-align: right;\">\n",
       "      <th></th>\n",
       "      <th>country</th>\n",
       "      <th>percentage</th>\n",
       "    </tr>\n",
       "  </thead>\n",
       "  <tbody>\n",
       "    <tr>\n",
       "      <th>0</th>\n",
       "      <td>Afghanistan</td>\n",
       "      <td>0.179</td>\n",
       "    </tr>\n",
       "    <tr>\n",
       "      <th>1</th>\n",
       "      <td>Albania</td>\n",
       "      <td>0.122</td>\n",
       "    </tr>\n",
       "    <tr>\n",
       "      <th>2</th>\n",
       "      <td>Algeria</td>\n",
       "      <td>0.153</td>\n",
       "    </tr>\n",
       "    <tr>\n",
       "      <th>3</th>\n",
       "      <td>American Samoa</td>\n",
       "      <td>0.113</td>\n",
       "    </tr>\n",
       "    <tr>\n",
       "      <th>4</th>\n",
       "      <td>Andorra</td>\n",
       "      <td>0.162</td>\n",
       "    </tr>\n",
       "  </tbody>\n",
       "</table>\n",
       "</div>"
      ],
      "text/plain": [
       "          country  percentage\n",
       "0     Afghanistan       0.179\n",
       "1         Albania       0.122\n",
       "2         Algeria       0.153\n",
       "3  American Samoa       0.113\n",
       "4         Andorra       0.162"
      ]
     },
     "execution_count": 51,
     "metadata": {},
     "output_type": "execute_result"
    }
   ],
   "source": [
    "# get the supplement data\n",
    "supp_data_2021 = pd.read_excel(\"global mental health 2021.xlsx\")\n",
    "\n",
    "supp_data_2021.head()"
   ]
  },
  {
   "cell_type": "code",
   "execution_count": 52,
   "metadata": {},
   "outputs": [
    {
     "name": "stdout",
     "output_type": "stream",
     "text": [
      "<class 'pandas.core.frame.DataFrame'>\n",
      "RangeIndex: 204 entries, 0 to 203\n",
      "Data columns (total 2 columns):\n",
      " #   Column      Non-Null Count  Dtype  \n",
      "---  ------      --------------  -----  \n",
      " 0   country     204 non-null    object \n",
      " 1   percentage  204 non-null    float64\n",
      "dtypes: float64(1), object(1)\n",
      "memory usage: 3.3+ KB\n"
     ]
    }
   ],
   "source": [
    "# check general info of supp data\n",
    "supp_data_2021['percentage'] = supp_data_2021['percentage']*100\n",
    "supp_data_2021.info()"
   ]
  },
  {
   "cell_type": "markdown",
   "metadata": {},
   "source": [
    "#### Insights:\n",
    "- Supplementary is already clean, ready for visualization."
   ]
  },
  {
   "cell_type": "markdown",
   "metadata": {},
   "source": [
    "### II.III Data Cleaning\n",
    "1. Change column name format into lower case and convert whitespace to '_'\n",
    "2. Drop the rows which have nan values from 'Music effects' and unnecessary columns: Timestamp, BPM, Exploratory, Foreign Language, Permission.\n",
    "3. Fill NaN values in other columns with mean (continuous data) or most frequent numbers (ordinal/categorical)."
   ]
  },
  {
   "cell_type": "markdown",
   "metadata": {},
   "source": [
    "#### 1. Change column name format"
   ]
  },
  {
   "cell_type": "code",
   "execution_count": 53,
   "metadata": {},
   "outputs": [
    {
     "name": "stdout",
     "output_type": "stream",
     "text": [
      "<class 'pandas.core.frame.DataFrame'>\n",
      "RangeIndex: 736 entries, 0 to 735\n",
      "Data columns (total 33 columns):\n",
      " #   Column                      Non-Null Count  Dtype  \n",
      "---  ------                      --------------  -----  \n",
      " 0   timestamp                   736 non-null    object \n",
      " 1   age                         735 non-null    float64\n",
      " 2   primary_streaming_service   735 non-null    object \n",
      " 3   hours_per_day               736 non-null    float64\n",
      " 4   while_working               733 non-null    object \n",
      " 5   instrumentalist             732 non-null    object \n",
      " 6   composer                    735 non-null    object \n",
      " 7   fav_genre                   736 non-null    object \n",
      " 8   exploratory                 736 non-null    object \n",
      " 9   foreign_languages           732 non-null    object \n",
      " 10  bpm                         629 non-null    float64\n",
      " 11  frequency_classical         736 non-null    object \n",
      " 12  frequency_country           736 non-null    object \n",
      " 13  frequency_edm               736 non-null    object \n",
      " 14  frequency_folk              736 non-null    object \n",
      " 15  frequency_gospel            736 non-null    object \n",
      " 16  frequency_hip_hop           736 non-null    object \n",
      " 17  frequency_jazz              736 non-null    object \n",
      " 18  frequency_k_pop             736 non-null    object \n",
      " 19  frequency_latin             736 non-null    object \n",
      " 20  frequency_lofi              736 non-null    object \n",
      " 21  frequency_metal             736 non-null    object \n",
      " 22  frequency_pop               736 non-null    object \n",
      " 23  frequency_r&b               736 non-null    object \n",
      " 24  frequency_rap               736 non-null    object \n",
      " 25  frequency_rock              736 non-null    object \n",
      " 26  frequency_video_game_music  736 non-null    object \n",
      " 27  anxiety                     736 non-null    float64\n",
      " 28  depression                  736 non-null    float64\n",
      " 29  insomnia                    736 non-null    float64\n",
      " 30  ocd                         736 non-null    float64\n",
      " 31  music_effects               728 non-null    object \n",
      " 32  permissions                 736 non-null    object \n",
      "dtypes: float64(7), object(26)\n",
      "memory usage: 189.9+ KB\n"
     ]
    }
   ],
   "source": [
    "# copy dataframe\n",
    "music_mental_data = music_mental_health_data.copy()\n",
    "\n",
    "# change into lower case\n",
    "music_mental_data.columns = music_mental_data.columns.str.lower()\n",
    "\n",
    "# remove all spaces on start and end points of column names,\n",
    "# replace whitespace with underline\n",
    "music_mental_data.columns = music_mental_data.columns.str.strip().str.replace(' ','_')\n",
    "\n",
    "# replace [ and ] with \"\"\n",
    "music_mental_data.columns = music_mental_data.columns.str.replace('[','').str.replace(']','')\n",
    "\n",
    "# show result\n",
    "music_mental_data.info()"
   ]
  },
  {
   "cell_type": "markdown",
   "metadata": {},
   "source": [
    "#### 2. Drop nan values from music effects and irrelevant columns"
   ]
  },
  {
   "cell_type": "code",
   "execution_count": 54,
   "metadata": {},
   "outputs": [
    {
     "data": {
      "text/plain": [
       "array([nan, 'No effect', 'Improve', 'Worsen'], dtype=object)"
      ]
     },
     "execution_count": 54,
     "metadata": {},
     "output_type": "execute_result"
    }
   ],
   "source": [
    "music_mental_data[\"music_effects\"].unique()"
   ]
  },
  {
   "cell_type": "code",
   "execution_count": 55,
   "metadata": {},
   "outputs": [
    {
     "data": {
      "text/plain": [
       "array(['No effect', 'Improve', 'Worsen'], dtype=object)"
      ]
     },
     "execution_count": 55,
     "metadata": {},
     "output_type": "execute_result"
    }
   ],
   "source": [
    "# drop nan values from music_effects\n",
    "music_mental_data = music_mental_data.dropna(subset=['music_effects'], axis = 0)\n",
    "music_mental_data[\"music_effects\"].unique()"
   ]
  },
  {
   "cell_type": "code",
   "execution_count": 56,
   "metadata": {},
   "outputs": [
    {
     "name": "stdout",
     "output_type": "stream",
     "text": [
      "<class 'pandas.core.frame.DataFrame'>\n",
      "Index: 728 entries, 2 to 735\n",
      "Data columns (total 30 columns):\n",
      " #   Column                      Non-Null Count  Dtype  \n",
      "---  ------                      --------------  -----  \n",
      " 0   age                         727 non-null    float64\n",
      " 1   primary_streaming_service   727 non-null    object \n",
      " 2   hours_per_day               728 non-null    float64\n",
      " 3   while_working               726 non-null    object \n",
      " 4   instrumentalist             725 non-null    object \n",
      " 5   composer                    728 non-null    object \n",
      " 6   fav_genre                   728 non-null    object \n",
      " 7   exploratory                 728 non-null    object \n",
      " 8   foreign_languages           725 non-null    object \n",
      " 9   frequency_classical         728 non-null    object \n",
      " 10  frequency_country           728 non-null    object \n",
      " 11  frequency_edm               728 non-null    object \n",
      " 12  frequency_folk              728 non-null    object \n",
      " 13  frequency_gospel            728 non-null    object \n",
      " 14  frequency_hip_hop           728 non-null    object \n",
      " 15  frequency_jazz              728 non-null    object \n",
      " 16  frequency_k_pop             728 non-null    object \n",
      " 17  frequency_latin             728 non-null    object \n",
      " 18  frequency_lofi              728 non-null    object \n",
      " 19  frequency_metal             728 non-null    object \n",
      " 20  frequency_pop               728 non-null    object \n",
      " 21  frequency_r&b               728 non-null    object \n",
      " 22  frequency_rap               728 non-null    object \n",
      " 23  frequency_rock              728 non-null    object \n",
      " 24  frequency_video_game_music  728 non-null    object \n",
      " 25  anxiety                     728 non-null    float64\n",
      " 26  depression                  728 non-null    float64\n",
      " 27  insomnia                    728 non-null    float64\n",
      " 28  ocd                         728 non-null    float64\n",
      " 29  music_effects               728 non-null    object \n",
      "dtypes: float64(6), object(24)\n",
      "memory usage: 176.3+ KB\n"
     ]
    }
   ],
   "source": [
    "# drop unrelated columns for the study\n",
    "music_mental_data = music_mental_data.drop(columns=['timestamp','bpm','permissions'],axis = 1)\n",
    "music_mental_data.info()"
   ]
  },
  {
   "cell_type": "markdown",
   "metadata": {},
   "source": [
    "#### 3. Fill NaN Values in Other Columns"
   ]
  },
  {
   "cell_type": "code",
   "execution_count": 57,
   "metadata": {},
   "outputs": [
    {
     "name": "stdout",
     "output_type": "stream",
     "text": [
      "<class 'pandas.core.frame.DataFrame'>\n",
      "Index: 728 entries, 2 to 735\n",
      "Data columns (total 30 columns):\n",
      " #   Column                      Non-Null Count  Dtype  \n",
      "---  ------                      --------------  -----  \n",
      " 0   age                         728 non-null    float64\n",
      " 1   primary_streaming_service   728 non-null    object \n",
      " 2   hours_per_day               728 non-null    float64\n",
      " 3   while_working               728 non-null    object \n",
      " 4   instrumentalist             728 non-null    object \n",
      " 5   composer                    728 non-null    object \n",
      " 6   fav_genre                   728 non-null    object \n",
      " 7   exploratory                 728 non-null    object \n",
      " 8   foreign_languages           728 non-null    object \n",
      " 9   frequency_classical         728 non-null    object \n",
      " 10  frequency_country           728 non-null    object \n",
      " 11  frequency_edm               728 non-null    object \n",
      " 12  frequency_folk              728 non-null    object \n",
      " 13  frequency_gospel            728 non-null    object \n",
      " 14  frequency_hip_hop           728 non-null    object \n",
      " 15  frequency_jazz              728 non-null    object \n",
      " 16  frequency_k_pop             728 non-null    object \n",
      " 17  frequency_latin             728 non-null    object \n",
      " 18  frequency_lofi              728 non-null    object \n",
      " 19  frequency_metal             728 non-null    object \n",
      " 20  frequency_pop               728 non-null    object \n",
      " 21  frequency_r&b               728 non-null    object \n",
      " 22  frequency_rap               728 non-null    object \n",
      " 23  frequency_rock              728 non-null    object \n",
      " 24  frequency_video_game_music  728 non-null    object \n",
      " 25  anxiety                     728 non-null    float64\n",
      " 26  depression                  728 non-null    float64\n",
      " 27  insomnia                    728 non-null    float64\n",
      " 28  ocd                         728 non-null    float64\n",
      " 29  music_effects               728 non-null    object \n",
      "dtypes: float64(6), object(24)\n",
      "memory usage: 176.3+ KB\n"
     ]
    }
   ],
   "source": [
    "# for numeric columns, fill with mean\n",
    "num_cols = music_mental_data.select_dtypes(include = ['float64']).columns\n",
    "music_mental_data[num_cols] = music_mental_data[num_cols].fillna(music_mental_data[num_cols].mean())\n",
    "\n",
    "# for categorical columns, fill with most frequent data with imputer\n",
    "cat_imputer = SimpleImputer(strategy='most_frequent')\n",
    "    # get the categorical column names\n",
    "cat_cols = music_mental_data.select_dtypes(include =['object']).columns\n",
    "    # impute the values\n",
    "imputed_cols = cat_imputer.fit_transform(music_mental_data[cat_cols])\n",
    "    # replace the values with imputed values\n",
    "music_mental_data[cat_cols] = imputed_cols\n",
    "\n",
    "music_mental_data.info()"
   ]
  },
  {
   "cell_type": "markdown",
   "metadata": {},
   "source": [
    "## III. Data Visualization and Analysis (EDA)"
   ]
  },
  {
   "cell_type": "markdown",
   "metadata": {},
   "source": [
    "### A. General Overview"
   ]
  },
  {
   "cell_type": "markdown",
   "metadata": {},
   "source": [
    "#### 1. Global Mental Health Condition in 2021"
   ]
  },
  {
   "cell_type": "code",
   "execution_count": 58,
   "metadata": {},
   "outputs": [
    {
     "data": {
      "application/vnd.plotly.v1+json": {
       "config": {
        "plotlyServerURL": "https://plot.ly"
       },
       "data": [
        {
         "coloraxis": "coloraxis",
         "geo": "geo",
         "hovertemplate": "country=%{location}<br>percentage=%{z}<extra></extra>",
         "locationmode": "country names",
         "locations": [
          "Afghanistan",
          "Albania",
          "Algeria",
          "American Samoa",
          "Andorra",
          "Angola",
          "Antigua and Barbuda",
          "Argentina",
          "Armenia",
          "Australia",
          "Austria",
          "Azerbaijan",
          "Bahamas",
          "Bahrain",
          "Bangladesh",
          "Barbados",
          "Belarus",
          "Belgium",
          "Belize",
          "Benin",
          "Bermuda",
          "Bhutan",
          "Bolivia",
          "Bosnia and Herzegovina",
          "Botswana",
          "Brazil",
          "Brunei",
          "Bulgaria",
          "Burkina Faso",
          "Burundi",
          "Cambodia",
          "Cameroon",
          "Canada",
          "Cape Verde",
          "Central African Republic",
          "Chad",
          "Chile",
          "China",
          "Colombia",
          "Comoros",
          "Congo",
          "Cook Islands",
          "Costa Rica",
          "Cote d'Ivoire",
          "Croatia",
          "Cuba",
          "Cyprus",
          "Czechia",
          "Democratic Republic of Congo",
          "Denmark",
          "Djibouti",
          "Dominica",
          "Dominican Republic",
          "East Timor",
          "Ecuador",
          "Egypt",
          "El Salvador",
          "Equatorial Guinea",
          "Eritrea",
          "Estonia",
          "Eswatini",
          "Ethiopia",
          "Fiji",
          "Finland",
          "France",
          "Gabon",
          "Gambia",
          "Georgia",
          "Germany",
          "Ghana",
          "Greece",
          "Greenland",
          "Grenada",
          "Guam",
          "Guatemala",
          "Guinea",
          "Guinea-Bissau",
          "Guyana",
          "Haiti",
          "Honduras",
          "Hungary",
          "Iceland",
          "India",
          "Indonesia",
          "Iran",
          "Iraq",
          "Ireland",
          "Israel",
          "Italy",
          "Jamaica",
          "Japan",
          "Jordan",
          "Kazakhstan",
          "Kenya",
          "Kiribati",
          "Kuwait",
          "Kyrgyzstan",
          "Laos",
          "Latvia",
          "Lebanon",
          "Lesotho",
          "Liberia",
          "Libya",
          "Lithuania",
          "Luxembourg",
          "Madagascar",
          "Malawi",
          "Malaysia",
          "Maldives",
          "Mali",
          "Malta",
          "Marshall Islands",
          "Mauritania",
          "Mauritius",
          "Mexico",
          "Micronesia",
          "Moldova",
          "Monaco",
          "Mongolia",
          "Montenegro",
          "Morocco",
          "Mozambique",
          "Myanmar",
          "Namibia",
          "Nauru",
          "Nepal",
          "Netherlands",
          "New Zealand",
          "Nicaragua",
          "Niger",
          "Nigeria",
          "Niue",
          "North Korea",
          "North Macedonia",
          "Northern Mariana Islands",
          "Norway",
          "Oman",
          "Pakistan",
          "Palau",
          "Palestine",
          "Panama",
          "Papua New Guinea",
          "Paraguay",
          "Peru",
          "Philippines",
          "Poland",
          "Portugal",
          "Puerto Rico",
          "Qatar",
          "Romania",
          "Russia",
          "Rwanda",
          "Saint Kitts and Nevis",
          "Saint Lucia",
          "Saint Vincent and the Grenadines",
          "Samoa",
          "San Marino",
          "Sao Tome and Principe",
          "Saudi Arabia",
          "Senegal",
          "Serbia",
          "Seychelles",
          "Sierra Leone",
          "Singapore",
          "Slovakia",
          "Slovenia",
          "Solomon Islands",
          "Somalia",
          "South Africa",
          "South Korea",
          "South Sudan",
          "Spain",
          "Sri Lanka",
          "Sudan",
          "Suriname",
          "Sweden",
          "Switzerland",
          "Syria",
          "Taiwan",
          "Tajikistan",
          "Tanzania",
          "Thailand",
          "Togo",
          "Tokelau",
          "Tonga",
          "Trinidad and Tobago",
          "Tunisia",
          "Turkey",
          "Turkmenistan",
          "Tuvalu",
          "Uganda",
          "Ukraine",
          "United Arab Emirates",
          "United Kingdom",
          "United States",
          "United States Virgin Islands",
          "Uruguay",
          "Uzbekistan",
          "Vanuatu",
          "Venezuela",
          "Vietnam",
          "Yemen",
          "Zambia",
          "Zimbabwe"
         ],
         "name": "",
         "type": "choropleth",
         "z": [
          17.9,
          12.2,
          15.299999999999999,
          11.3,
          16.2,
          14.499999999999998,
          14.899999999999999,
          14.7,
          11.799999999999999,
          19,
          16,
          11,
          15.2,
          15.8,
          12.7,
          15.4,
          14.6,
          15.5,
          15,
          12.2,
          15.299999999999999,
          12.1,
          17.2,
          12.5,
          13.600000000000001,
          18.4,
          10.8,
          13,
          12,
          13.900000000000002,
          12.5,
          12.3,
          15.1,
          13.200000000000001,
          14.799999999999999,
          12.8,
          16.2,
          11.4,
          13.100000000000001,
          13,
          14.2,
          11.799999999999999,
          13.900000000000002,
          11.5,
          12.4,
          16,
          15.8,
          12.1,
          14.2,
          15.4,
          12.8,
          15.1,
          15.5,
          11.600000000000001,
          15.9,
          15.4,
          14.099999999999998,
          14.2,
          13.5,
          13.5,
          14.6,
          13.4,
          11.899999999999999,
          15.6,
          17.5,
          14.499999999999998,
          13.700000000000001,
          11.799999999999999,
          16.1,
          12.1,
          18.3,
          19,
          15.2,
          12.2,
          14.399999999999999,
          12.3,
          12.3,
          17.5,
          15.7,
          14.2,
          12.2,
          14.7,
          14.499999999999998,
          11.3,
          19.8,
          15.1,
          18.3,
          14.799999999999999,
          16.400000000000002,
          15.1,
          11.5,
          15.4,
          11.1,
          13.3,
          12,
          14.2,
          11.700000000000001,
          12.4,
          14.299999999999999,
          19.2,
          15.8,
          12.5,
          16.3,
          15.299999999999999,
          15.5,
          13.8,
          13.3,
          12.5,
          11.5,
          11,
          15.6,
          11.799999999999999,
          11.200000000000001,
          12.8,
          13.5,
          11.799999999999999,
          13.5,
          17,
          11.3,
          12.8,
          17.1,
          14.2,
          11.600000000000001,
          13.3,
          11.899999999999999,
          14.899999999999999,
          17.299999999999997,
          18.099999999999998,
          14.000000000000002,
          11.600000000000001,
          11.1,
          11.899999999999999,
          11.3,
          12.7,
          11.899999999999999,
          16.3,
          15.1,
          13.8,
          11.700000000000001,
          18.9,
          13.3,
          11.700000000000001,
          17.4,
          15.5,
          12.4,
          11.4,
          19.900000000000002,
          14.6,
          14.399999999999999,
          12.2,
          12.8,
          14.000000000000002,
          15.6,
          15.7,
          15.4,
          11.600000000000001,
          17,
          11.3,
          14.399999999999999,
          12,
          12.2,
          11.600000000000001,
          12.1,
          11,
          12.4,
          12.3,
          12.1,
          15,
          13.8,
          11.4,
          13.600000000000001,
          18.7,
          12,
          16.5,
          17.299999999999997,
          16.1,
          17.4,
          16.7,
          10.6,
          11.200000000000001,
          13.4,
          12.2,
          12.4,
          11.899999999999999,
          11.600000000000001,
          16.3,
          18.4,
          15.299999999999999,
          10.9,
          12.1,
          15.8,
          13.5,
          13.900000000000002,
          15.9,
          18.099999999999998,
          15.299999999999999,
          15.5,
          10.8,
          12,
          14.000000000000002,
          9.700000000000001,
          16.1,
          13.3,
          11.899999999999999
         ]
        }
       ],
       "layout": {
        "coloraxis": {
         "colorbar": {
          "title": {
           "text": "Percentage (%)"
          }
         },
         "colorscale": [
          [
           0,
           "rgb(252,251,253)"
          ],
          [
           0.125,
           "rgb(239,237,245)"
          ],
          [
           0.25,
           "rgb(218,218,235)"
          ],
          [
           0.375,
           "rgb(188,189,220)"
          ],
          [
           0.5,
           "rgb(158,154,200)"
          ],
          [
           0.625,
           "rgb(128,125,186)"
          ],
          [
           0.75,
           "rgb(106,81,163)"
          ],
          [
           0.875,
           "rgb(84,39,143)"
          ],
          [
           1,
           "rgb(63,0,125)"
          ]
         ]
        },
        "geo": {
         "center": {},
         "domain": {
          "x": [
           0,
           1
          ],
          "y": [
           0,
           1
          ]
         }
        },
        "height": 600,
        "legend": {
         "tracegroupgap": 0
        },
        "template": {
         "data": {
          "bar": [
           {
            "error_x": {
             "color": "#2a3f5f"
            },
            "error_y": {
             "color": "#2a3f5f"
            },
            "marker": {
             "line": {
              "color": "#E5ECF6",
              "width": 0.5
             },
             "pattern": {
              "fillmode": "overlay",
              "size": 10,
              "solidity": 0.2
             }
            },
            "type": "bar"
           }
          ],
          "barpolar": [
           {
            "marker": {
             "line": {
              "color": "#E5ECF6",
              "width": 0.5
             },
             "pattern": {
              "fillmode": "overlay",
              "size": 10,
              "solidity": 0.2
             }
            },
            "type": "barpolar"
           }
          ],
          "carpet": [
           {
            "aaxis": {
             "endlinecolor": "#2a3f5f",
             "gridcolor": "white",
             "linecolor": "white",
             "minorgridcolor": "white",
             "startlinecolor": "#2a3f5f"
            },
            "baxis": {
             "endlinecolor": "#2a3f5f",
             "gridcolor": "white",
             "linecolor": "white",
             "minorgridcolor": "white",
             "startlinecolor": "#2a3f5f"
            },
            "type": "carpet"
           }
          ],
          "choropleth": [
           {
            "colorbar": {
             "outlinewidth": 0,
             "ticks": ""
            },
            "type": "choropleth"
           }
          ],
          "contour": [
           {
            "colorbar": {
             "outlinewidth": 0,
             "ticks": ""
            },
            "colorscale": [
             [
              0,
              "#0d0887"
             ],
             [
              0.1111111111111111,
              "#46039f"
             ],
             [
              0.2222222222222222,
              "#7201a8"
             ],
             [
              0.3333333333333333,
              "#9c179e"
             ],
             [
              0.4444444444444444,
              "#bd3786"
             ],
             [
              0.5555555555555556,
              "#d8576b"
             ],
             [
              0.6666666666666666,
              "#ed7953"
             ],
             [
              0.7777777777777778,
              "#fb9f3a"
             ],
             [
              0.8888888888888888,
              "#fdca26"
             ],
             [
              1,
              "#f0f921"
             ]
            ],
            "type": "contour"
           }
          ],
          "contourcarpet": [
           {
            "colorbar": {
             "outlinewidth": 0,
             "ticks": ""
            },
            "type": "contourcarpet"
           }
          ],
          "heatmap": [
           {
            "colorbar": {
             "outlinewidth": 0,
             "ticks": ""
            },
            "colorscale": [
             [
              0,
              "#0d0887"
             ],
             [
              0.1111111111111111,
              "#46039f"
             ],
             [
              0.2222222222222222,
              "#7201a8"
             ],
             [
              0.3333333333333333,
              "#9c179e"
             ],
             [
              0.4444444444444444,
              "#bd3786"
             ],
             [
              0.5555555555555556,
              "#d8576b"
             ],
             [
              0.6666666666666666,
              "#ed7953"
             ],
             [
              0.7777777777777778,
              "#fb9f3a"
             ],
             [
              0.8888888888888888,
              "#fdca26"
             ],
             [
              1,
              "#f0f921"
             ]
            ],
            "type": "heatmap"
           }
          ],
          "heatmapgl": [
           {
            "colorbar": {
             "outlinewidth": 0,
             "ticks": ""
            },
            "colorscale": [
             [
              0,
              "#0d0887"
             ],
             [
              0.1111111111111111,
              "#46039f"
             ],
             [
              0.2222222222222222,
              "#7201a8"
             ],
             [
              0.3333333333333333,
              "#9c179e"
             ],
             [
              0.4444444444444444,
              "#bd3786"
             ],
             [
              0.5555555555555556,
              "#d8576b"
             ],
             [
              0.6666666666666666,
              "#ed7953"
             ],
             [
              0.7777777777777778,
              "#fb9f3a"
             ],
             [
              0.8888888888888888,
              "#fdca26"
             ],
             [
              1,
              "#f0f921"
             ]
            ],
            "type": "heatmapgl"
           }
          ],
          "histogram": [
           {
            "marker": {
             "pattern": {
              "fillmode": "overlay",
              "size": 10,
              "solidity": 0.2
             }
            },
            "type": "histogram"
           }
          ],
          "histogram2d": [
           {
            "colorbar": {
             "outlinewidth": 0,
             "ticks": ""
            },
            "colorscale": [
             [
              0,
              "#0d0887"
             ],
             [
              0.1111111111111111,
              "#46039f"
             ],
             [
              0.2222222222222222,
              "#7201a8"
             ],
             [
              0.3333333333333333,
              "#9c179e"
             ],
             [
              0.4444444444444444,
              "#bd3786"
             ],
             [
              0.5555555555555556,
              "#d8576b"
             ],
             [
              0.6666666666666666,
              "#ed7953"
             ],
             [
              0.7777777777777778,
              "#fb9f3a"
             ],
             [
              0.8888888888888888,
              "#fdca26"
             ],
             [
              1,
              "#f0f921"
             ]
            ],
            "type": "histogram2d"
           }
          ],
          "histogram2dcontour": [
           {
            "colorbar": {
             "outlinewidth": 0,
             "ticks": ""
            },
            "colorscale": [
             [
              0,
              "#0d0887"
             ],
             [
              0.1111111111111111,
              "#46039f"
             ],
             [
              0.2222222222222222,
              "#7201a8"
             ],
             [
              0.3333333333333333,
              "#9c179e"
             ],
             [
              0.4444444444444444,
              "#bd3786"
             ],
             [
              0.5555555555555556,
              "#d8576b"
             ],
             [
              0.6666666666666666,
              "#ed7953"
             ],
             [
              0.7777777777777778,
              "#fb9f3a"
             ],
             [
              0.8888888888888888,
              "#fdca26"
             ],
             [
              1,
              "#f0f921"
             ]
            ],
            "type": "histogram2dcontour"
           }
          ],
          "mesh3d": [
           {
            "colorbar": {
             "outlinewidth": 0,
             "ticks": ""
            },
            "type": "mesh3d"
           }
          ],
          "parcoords": [
           {
            "line": {
             "colorbar": {
              "outlinewidth": 0,
              "ticks": ""
             }
            },
            "type": "parcoords"
           }
          ],
          "pie": [
           {
            "automargin": true,
            "type": "pie"
           }
          ],
          "scatter": [
           {
            "fillpattern": {
             "fillmode": "overlay",
             "size": 10,
             "solidity": 0.2
            },
            "type": "scatter"
           }
          ],
          "scatter3d": [
           {
            "line": {
             "colorbar": {
              "outlinewidth": 0,
              "ticks": ""
             }
            },
            "marker": {
             "colorbar": {
              "outlinewidth": 0,
              "ticks": ""
             }
            },
            "type": "scatter3d"
           }
          ],
          "scattercarpet": [
           {
            "marker": {
             "colorbar": {
              "outlinewidth": 0,
              "ticks": ""
             }
            },
            "type": "scattercarpet"
           }
          ],
          "scattergeo": [
           {
            "marker": {
             "colorbar": {
              "outlinewidth": 0,
              "ticks": ""
             }
            },
            "type": "scattergeo"
           }
          ],
          "scattergl": [
           {
            "marker": {
             "colorbar": {
              "outlinewidth": 0,
              "ticks": ""
             }
            },
            "type": "scattergl"
           }
          ],
          "scattermapbox": [
           {
            "marker": {
             "colorbar": {
              "outlinewidth": 0,
              "ticks": ""
             }
            },
            "type": "scattermapbox"
           }
          ],
          "scatterpolar": [
           {
            "marker": {
             "colorbar": {
              "outlinewidth": 0,
              "ticks": ""
             }
            },
            "type": "scatterpolar"
           }
          ],
          "scatterpolargl": [
           {
            "marker": {
             "colorbar": {
              "outlinewidth": 0,
              "ticks": ""
             }
            },
            "type": "scatterpolargl"
           }
          ],
          "scatterternary": [
           {
            "marker": {
             "colorbar": {
              "outlinewidth": 0,
              "ticks": ""
             }
            },
            "type": "scatterternary"
           }
          ],
          "surface": [
           {
            "colorbar": {
             "outlinewidth": 0,
             "ticks": ""
            },
            "colorscale": [
             [
              0,
              "#0d0887"
             ],
             [
              0.1111111111111111,
              "#46039f"
             ],
             [
              0.2222222222222222,
              "#7201a8"
             ],
             [
              0.3333333333333333,
              "#9c179e"
             ],
             [
              0.4444444444444444,
              "#bd3786"
             ],
             [
              0.5555555555555556,
              "#d8576b"
             ],
             [
              0.6666666666666666,
              "#ed7953"
             ],
             [
              0.7777777777777778,
              "#fb9f3a"
             ],
             [
              0.8888888888888888,
              "#fdca26"
             ],
             [
              1,
              "#f0f921"
             ]
            ],
            "type": "surface"
           }
          ],
          "table": [
           {
            "cells": {
             "fill": {
              "color": "#EBF0F8"
             },
             "line": {
              "color": "white"
             }
            },
            "header": {
             "fill": {
              "color": "#C8D4E3"
             },
             "line": {
              "color": "white"
             }
            },
            "type": "table"
           }
          ]
         },
         "layout": {
          "annotationdefaults": {
           "arrowcolor": "#2a3f5f",
           "arrowhead": 0,
           "arrowwidth": 1
          },
          "autotypenumbers": "strict",
          "coloraxis": {
           "colorbar": {
            "outlinewidth": 0,
            "ticks": ""
           }
          },
          "colorscale": {
           "diverging": [
            [
             0,
             "#8e0152"
            ],
            [
             0.1,
             "#c51b7d"
            ],
            [
             0.2,
             "#de77ae"
            ],
            [
             0.3,
             "#f1b6da"
            ],
            [
             0.4,
             "#fde0ef"
            ],
            [
             0.5,
             "#f7f7f7"
            ],
            [
             0.6,
             "#e6f5d0"
            ],
            [
             0.7,
             "#b8e186"
            ],
            [
             0.8,
             "#7fbc41"
            ],
            [
             0.9,
             "#4d9221"
            ],
            [
             1,
             "#276419"
            ]
           ],
           "sequential": [
            [
             0,
             "#0d0887"
            ],
            [
             0.1111111111111111,
             "#46039f"
            ],
            [
             0.2222222222222222,
             "#7201a8"
            ],
            [
             0.3333333333333333,
             "#9c179e"
            ],
            [
             0.4444444444444444,
             "#bd3786"
            ],
            [
             0.5555555555555556,
             "#d8576b"
            ],
            [
             0.6666666666666666,
             "#ed7953"
            ],
            [
             0.7777777777777778,
             "#fb9f3a"
            ],
            [
             0.8888888888888888,
             "#fdca26"
            ],
            [
             1,
             "#f0f921"
            ]
           ],
           "sequentialminus": [
            [
             0,
             "#0d0887"
            ],
            [
             0.1111111111111111,
             "#46039f"
            ],
            [
             0.2222222222222222,
             "#7201a8"
            ],
            [
             0.3333333333333333,
             "#9c179e"
            ],
            [
             0.4444444444444444,
             "#bd3786"
            ],
            [
             0.5555555555555556,
             "#d8576b"
            ],
            [
             0.6666666666666666,
             "#ed7953"
            ],
            [
             0.7777777777777778,
             "#fb9f3a"
            ],
            [
             0.8888888888888888,
             "#fdca26"
            ],
            [
             1,
             "#f0f921"
            ]
           ]
          },
          "colorway": [
           "#636efa",
           "#EF553B",
           "#00cc96",
           "#ab63fa",
           "#FFA15A",
           "#19d3f3",
           "#FF6692",
           "#B6E880",
           "#FF97FF",
           "#FECB52"
          ],
          "font": {
           "color": "#2a3f5f"
          },
          "geo": {
           "bgcolor": "white",
           "lakecolor": "white",
           "landcolor": "#E5ECF6",
           "showlakes": true,
           "showland": true,
           "subunitcolor": "white"
          },
          "hoverlabel": {
           "align": "left"
          },
          "hovermode": "closest",
          "mapbox": {
           "style": "light"
          },
          "paper_bgcolor": "white",
          "plot_bgcolor": "#E5ECF6",
          "polar": {
           "angularaxis": {
            "gridcolor": "white",
            "linecolor": "white",
            "ticks": ""
           },
           "bgcolor": "#E5ECF6",
           "radialaxis": {
            "gridcolor": "white",
            "linecolor": "white",
            "ticks": ""
           }
          },
          "scene": {
           "xaxis": {
            "backgroundcolor": "#E5ECF6",
            "gridcolor": "white",
            "gridwidth": 2,
            "linecolor": "white",
            "showbackground": true,
            "ticks": "",
            "zerolinecolor": "white"
           },
           "yaxis": {
            "backgroundcolor": "#E5ECF6",
            "gridcolor": "white",
            "gridwidth": 2,
            "linecolor": "white",
            "showbackground": true,
            "ticks": "",
            "zerolinecolor": "white"
           },
           "zaxis": {
            "backgroundcolor": "#E5ECF6",
            "gridcolor": "white",
            "gridwidth": 2,
            "linecolor": "white",
            "showbackground": true,
            "ticks": "",
            "zerolinecolor": "white"
           }
          },
          "shapedefaults": {
           "line": {
            "color": "#2a3f5f"
           }
          },
          "ternary": {
           "aaxis": {
            "gridcolor": "white",
            "linecolor": "white",
            "ticks": ""
           },
           "baxis": {
            "gridcolor": "white",
            "linecolor": "white",
            "ticks": ""
           },
           "bgcolor": "#E5ECF6",
           "caxis": {
            "gridcolor": "white",
            "linecolor": "white",
            "ticks": ""
           }
          },
          "title": {
           "x": 0.05
          },
          "xaxis": {
           "automargin": true,
           "gridcolor": "white",
           "linecolor": "white",
           "ticks": "",
           "title": {
            "standoff": 15
           },
           "zerolinecolor": "white",
           "zerolinewidth": 2
          },
          "yaxis": {
           "automargin": true,
           "gridcolor": "white",
           "linecolor": "white",
           "ticks": "",
           "title": {
            "standoff": 15
           },
           "zerolinecolor": "white",
           "zerolinewidth": 2
          }
         }
        },
        "title": {
         "text": "Global Mental Health Problems Rate in 2021",
         "x": 0.25,
         "y": 0.85
        },
        "width": 1000
       }
      }
     },
     "metadata": {},
     "output_type": "display_data"
    }
   ],
   "source": [
    "# create the choropleth map\n",
    "fig = px.choropleth(supp_data_2021, \n",
    "                    locations='country',  # Column with country names\n",
    "                    locationmode='country names',  # Specify country names as the location type\n",
    "                    color='percentage',  # Values to map\n",
    "                    color_continuous_scale='Purples',  # Color scheme\n",
    "                    title=\"Global Mental Health Problems Rate in 2021\")\n",
    "\n",
    "# change the title of the percentage legend\n",
    "fig.update_layout(\n",
    "    coloraxis_colorbar=dict(\n",
    "        title=\"Percentage (%)\"  # Change this to your desired legend title\n",
    "    )\n",
    ")\n",
    "# increase figure size\n",
    "fig.update_layout(width=1000, height=600,title={'x':0.25,'y':0.85})\n",
    "\n",
    "fig.show()"
   ]
  },
  {
   "cell_type": "markdown",
   "metadata": {},
   "source": [
    "##### Insights:\n",
    "- At least 10% of the total population of each country experience mental health problem. That is why we need to find ways to solve mental health problem."
   ]
  },
  {
   "cell_type": "code",
   "execution_count": 59,
   "metadata": {},
   "outputs": [],
   "source": [
    "# save choropleth map\n",
    "fig.write_image(\"mental_health_problem_2021.png\", width=1000, height=600, scale=3)\n"
   ]
  },
  {
   "cell_type": "markdown",
   "metadata": {},
   "source": [
    "#### 2. Population Age Distribution"
   ]
  },
  {
   "cell_type": "code",
   "execution_count": 60,
   "metadata": {},
   "outputs": [
    {
     "data": {
      "image/png": "[encoded data removed]",
      "text/plain": [
       "<Figure size 800x600 with 1 Axes>"
      ]
     },
     "metadata": {},
     "output_type": "display_data"
    }
   ],
   "source": [
    "# make a histogram\n",
    "plt.figure(figsize=(8,6))\n",
    "sns.histplot(data=music_mental_data,x='age',color='darkgoldenrod')\n",
    "\n",
    "# limit x and y axis values\n",
    "plt.xlim(left=0,right=90)\n",
    "\n",
    "# title and axis labels\n",
    "plt.title('Age Distribution of the Population',fontsize= 16)\n",
    "plt.xlabel('Age Groups', fontsize=14)\n",
    "plt.ylabel('Number of People',fontsize=14)\n",
    "\n",
    "plt.show()"
   ]
  },
  {
   "cell_type": "markdown",
   "metadata": {},
   "source": [
    "##### Insights:\n",
    "- The population distribution is right-skewed where the most of the data is found between 10 to 40 years of age.\n",
    "- Afterwards, the population becomes very small with the increasing age.\n",
    "- Since our focus will be how to make music enhancing mental health state on youth and adults, we will limit the age where data is sufficient ( < 40)."
   ]
  },
  {
   "cell_type": "code",
   "execution_count": 61,
   "metadata": {},
   "outputs": [
    {
     "data": {
      "text/html": [
       "<div>\n",
       "<style scoped>\n",
       "    .dataframe tbody tr th:only-of-type {\n",
       "        vertical-align: middle;\n",
       "    }\n",
       "\n",
       "    .dataframe tbody tr th {\n",
       "        vertical-align: top;\n",
       "    }\n",
       "\n",
       "    .dataframe thead th {\n",
       "        text-align: right;\n",
       "    }\n",
       "</style>\n",
       "<table border=\"1\" class=\"dataframe\">\n",
       "  <thead>\n",
       "    <tr style=\"text-align: right;\">\n",
       "      <th></th>\n",
       "      <th>age</th>\n",
       "      <th>primary_streaming_service</th>\n",
       "      <th>hours_per_day</th>\n",
       "      <th>while_working</th>\n",
       "      <th>instrumentalist</th>\n",
       "      <th>composer</th>\n",
       "      <th>fav_genre</th>\n",
       "      <th>exploratory</th>\n",
       "      <th>foreign_languages</th>\n",
       "      <th>frequency_classical</th>\n",
       "      <th>...</th>\n",
       "      <th>frequency_pop</th>\n",
       "      <th>frequency_r&amp;b</th>\n",
       "      <th>frequency_rap</th>\n",
       "      <th>frequency_rock</th>\n",
       "      <th>frequency_video_game_music</th>\n",
       "      <th>anxiety</th>\n",
       "      <th>depression</th>\n",
       "      <th>insomnia</th>\n",
       "      <th>ocd</th>\n",
       "      <th>music_effects</th>\n",
       "    </tr>\n",
       "  </thead>\n",
       "  <tbody>\n",
       "    <tr>\n",
       "      <th>0</th>\n",
       "      <td>18.0</td>\n",
       "      <td>Spotify</td>\n",
       "      <td>4.0</td>\n",
       "      <td>No</td>\n",
       "      <td>No</td>\n",
       "      <td>No</td>\n",
       "      <td>Video game music</td>\n",
       "      <td>No</td>\n",
       "      <td>Yes</td>\n",
       "      <td>Never</td>\n",
       "      <td>...</td>\n",
       "      <td>Rarely</td>\n",
       "      <td>Never</td>\n",
       "      <td>Rarely</td>\n",
       "      <td>Rarely</td>\n",
       "      <td>Very frequently</td>\n",
       "      <td>7.0</td>\n",
       "      <td>7.0</td>\n",
       "      <td>10.0</td>\n",
       "      <td>2.0</td>\n",
       "      <td>No effect</td>\n",
       "    </tr>\n",
       "    <tr>\n",
       "      <th>1</th>\n",
       "      <td>18.0</td>\n",
       "      <td>Spotify</td>\n",
       "      <td>4.0</td>\n",
       "      <td>Yes</td>\n",
       "      <td>No</td>\n",
       "      <td>No</td>\n",
       "      <td>R&amp;B</td>\n",
       "      <td>Yes</td>\n",
       "      <td>No</td>\n",
       "      <td>Never</td>\n",
       "      <td>...</td>\n",
       "      <td>Sometimes</td>\n",
       "      <td>Very frequently</td>\n",
       "      <td>Very frequently</td>\n",
       "      <td>Never</td>\n",
       "      <td>Rarely</td>\n",
       "      <td>7.0</td>\n",
       "      <td>2.0</td>\n",
       "      <td>5.0</td>\n",
       "      <td>9.0</td>\n",
       "      <td>Improve</td>\n",
       "    </tr>\n",
       "    <tr>\n",
       "      <th>2</th>\n",
       "      <td>18.0</td>\n",
       "      <td>Spotify</td>\n",
       "      <td>5.0</td>\n",
       "      <td>Yes</td>\n",
       "      <td>Yes</td>\n",
       "      <td>Yes</td>\n",
       "      <td>Jazz</td>\n",
       "      <td>Yes</td>\n",
       "      <td>Yes</td>\n",
       "      <td>Rarely</td>\n",
       "      <td>...</td>\n",
       "      <td>Very frequently</td>\n",
       "      <td>Very frequently</td>\n",
       "      <td>Very frequently</td>\n",
       "      <td>Very frequently</td>\n",
       "      <td>Never</td>\n",
       "      <td>8.0</td>\n",
       "      <td>8.0</td>\n",
       "      <td>7.0</td>\n",
       "      <td>7.0</td>\n",
       "      <td>Improve</td>\n",
       "    </tr>\n",
       "    <tr>\n",
       "      <th>3</th>\n",
       "      <td>18.0</td>\n",
       "      <td>YouTube Music</td>\n",
       "      <td>3.0</td>\n",
       "      <td>Yes</td>\n",
       "      <td>Yes</td>\n",
       "      <td>No</td>\n",
       "      <td>Video game music</td>\n",
       "      <td>Yes</td>\n",
       "      <td>Yes</td>\n",
       "      <td>Sometimes</td>\n",
       "      <td>...</td>\n",
       "      <td>Rarely</td>\n",
       "      <td>Rarely</td>\n",
       "      <td>Never</td>\n",
       "      <td>Never</td>\n",
       "      <td>Sometimes</td>\n",
       "      <td>4.0</td>\n",
       "      <td>8.0</td>\n",
       "      <td>6.0</td>\n",
       "      <td>0.0</td>\n",
       "      <td>Improve</td>\n",
       "    </tr>\n",
       "    <tr>\n",
       "      <th>4</th>\n",
       "      <td>21.0</td>\n",
       "      <td>Spotify</td>\n",
       "      <td>1.0</td>\n",
       "      <td>Yes</td>\n",
       "      <td>No</td>\n",
       "      <td>No</td>\n",
       "      <td>K pop</td>\n",
       "      <td>Yes</td>\n",
       "      <td>Yes</td>\n",
       "      <td>Never</td>\n",
       "      <td>...</td>\n",
       "      <td>Sometimes</td>\n",
       "      <td>Sometimes</td>\n",
       "      <td>Rarely</td>\n",
       "      <td>Never</td>\n",
       "      <td>Rarely</td>\n",
       "      <td>5.0</td>\n",
       "      <td>3.0</td>\n",
       "      <td>5.0</td>\n",
       "      <td>3.0</td>\n",
       "      <td>Improve</td>\n",
       "    </tr>\n",
       "  </tbody>\n",
       "</table>\n",
       "<p>5 rows × 30 columns</p>\n",
       "</div>"
      ],
      "text/plain": [
       "    age primary_streaming_service  hours_per_day while_working  \\\n",
       "0  18.0                   Spotify            4.0            No   \n",
       "1  18.0                   Spotify            4.0           Yes   \n",
       "2  18.0                   Spotify            5.0           Yes   \n",
       "3  18.0             YouTube Music            3.0           Yes   \n",
       "4  21.0                   Spotify            1.0           Yes   \n",
       "\n",
       "  instrumentalist composer         fav_genre exploratory foreign_languages  \\\n",
       "0              No       No  Video game music          No               Yes   \n",
       "1              No       No               R&B         Yes                No   \n",
       "2             Yes      Yes              Jazz         Yes               Yes   \n",
       "3             Yes       No  Video game music         Yes               Yes   \n",
       "4              No       No             K pop         Yes               Yes   \n",
       "\n",
       "  frequency_classical  ...    frequency_pop    frequency_r&b    frequency_rap  \\\n",
       "0               Never  ...           Rarely            Never           Rarely   \n",
       "1               Never  ...        Sometimes  Very frequently  Very frequently   \n",
       "2              Rarely  ...  Very frequently  Very frequently  Very frequently   \n",
       "3           Sometimes  ...           Rarely           Rarely            Never   \n",
       "4               Never  ...        Sometimes        Sometimes           Rarely   \n",
       "\n",
       "    frequency_rock frequency_video_game_music anxiety depression insomnia  \\\n",
       "0           Rarely            Very frequently     7.0        7.0     10.0   \n",
       "1            Never                     Rarely     7.0        2.0      5.0   \n",
       "2  Very frequently                      Never     8.0        8.0      7.0   \n",
       "3            Never                  Sometimes     4.0        8.0      6.0   \n",
       "4            Never                     Rarely     5.0        3.0      5.0   \n",
       "\n",
       "   ocd music_effects  \n",
       "0  2.0     No effect  \n",
       "1  9.0       Improve  \n",
       "2  7.0       Improve  \n",
       "3  0.0       Improve  \n",
       "4  3.0       Improve  \n",
       "\n",
       "[5 rows x 30 columns]"
      ]
     },
     "execution_count": 61,
     "metadata": {},
     "output_type": "execute_result"
    }
   ],
   "source": [
    "# make data subset where we take the desirable age range\n",
    "age_filter = (music_mental_data['age'] <= 40)\n",
    "sample_music_data = music_mental_data[age_filter].copy().reset_index().drop(columns='index',axis=1)\n",
    "sample_music_data.head()"
   ]
  },
  {
   "cell_type": "markdown",
   "metadata": {},
   "source": [
    "### B. Focused Analysis"
   ]
  },
  {
   "cell_type": "markdown",
   "metadata": {},
   "source": [
    "#### 1. How does the population think about music helping their mental health?"
   ]
  },
  {
   "cell_type": "code",
   "execution_count": 62,
   "metadata": {},
   "outputs": [
    {
     "data": {
      "text/html": [
       "<div>\n",
       "<style scoped>\n",
       "    .dataframe tbody tr th:only-of-type {\n",
       "        vertical-align: middle;\n",
       "    }\n",
       "\n",
       "    .dataframe tbody tr th {\n",
       "        vertical-align: top;\n",
       "    }\n",
       "\n",
       "    .dataframe thead th {\n",
       "        text-align: right;\n",
       "    }\n",
       "</style>\n",
       "<table border=\"1\" class=\"dataframe\">\n",
       "  <thead>\n",
       "    <tr style=\"text-align: right;\">\n",
       "      <th></th>\n",
       "      <th>music_effects</th>\n",
       "      <th>total_population</th>\n",
       "    </tr>\n",
       "  </thead>\n",
       "  <tbody>\n",
       "    <tr>\n",
       "      <th>0</th>\n",
       "      <td>Improve</td>\n",
       "      <td>489</td>\n",
       "    </tr>\n",
       "    <tr>\n",
       "      <th>1</th>\n",
       "      <td>No effect</td>\n",
       "      <td>151</td>\n",
       "    </tr>\n",
       "    <tr>\n",
       "      <th>2</th>\n",
       "      <td>Worsen</td>\n",
       "      <td>17</td>\n",
       "    </tr>\n",
       "  </tbody>\n",
       "</table>\n",
       "</div>"
      ],
      "text/plain": [
       "  music_effects  total_population\n",
       "0       Improve               489\n",
       "1     No effect               151\n",
       "2        Worsen                17"
      ]
     },
     "execution_count": 62,
     "metadata": {},
     "output_type": "execute_result"
    }
   ],
   "source": [
    "# make a new dataframe for counting size of music effect categories\n",
    "music_effect_pop_distribution = sample_music_data.groupby('music_effects').size().reset_index()\n",
    "music_effect_pop_distribution.rename(columns={0:'total_population'},inplace = True)\n",
    "\n",
    "music_effect_pop_distribution"
   ]
  },
  {
   "cell_type": "code",
   "execution_count": 63,
   "metadata": {},
   "outputs": [
    {
     "data": {
      "image/png": "[encoded data removed]",
      "text/plain": [
       "<Figure size 1000x600 with 1 Axes>"
      ]
     },
     "metadata": {},
     "output_type": "display_data"
    }
   ],
   "source": [
    "# make a donut plot\n",
    "plt.figure(figsize = (10,6))\n",
    "\n",
    "# Create color palette\n",
    "colors = ['seagreen', 'gainsboro', 'gainsboro'] \n",
    "explode = [0.01, 0.01, 0.01]  # Explode to give white partition on each category\n",
    "\n",
    "# make pie chart\n",
    "plt.pie(data=music_effect_pop_distribution,x='total_population',\n",
    "        labels=['Improve','No effect','Worsen'],\n",
    "        colors=colors,startangle=340,\n",
    "        textprops={'fontsize':12},\n",
    "        explode=explode)\n",
    "\n",
    "# make a circle to in the middle of the graph\n",
    "white_circle = plt.Circle((0,0),0.5,color='white')\n",
    "plt.gca().add_artist(white_circle)\n",
    "\n",
    "# make title and annotation\n",
    "plt.title(\"Public Opinion: Music Effect on Mental Health\",fontsize=16)\n",
    "\n",
    "# annotation on hole\n",
    "plt.text(0,0.1,'Total',color='black',ha='center',fontsize=14)\n",
    "plt.text(0,-0.1,'657',color='black',ha='center',fontsize=20,fontweight='bold')\n",
    "plt.show()"
   ]
  },
  {
   "cell_type": "markdown",
   "metadata": {},
   "source": [
    "##### Insights:\n",
    "- The majority of the population (74%) believed that listening to music helped their mental health."
   ]
  },
  {
   "cell_type": "markdown",
   "metadata": {},
   "source": [
    "#### 2. Which Mental Health Problem is Most Frequent?\n",
    "- Further analysis would be more focused on this mental health problem."
   ]
  },
  {
   "cell_type": "code",
   "execution_count": 64,
   "metadata": {},
   "outputs": [
    {
     "data": {
      "text/html": [
       "<div>\n",
       "<style scoped>\n",
       "    .dataframe tbody tr th:only-of-type {\n",
       "        vertical-align: middle;\n",
       "    }\n",
       "\n",
       "    .dataframe tbody tr th {\n",
       "        vertical-align: top;\n",
       "    }\n",
       "\n",
       "    .dataframe thead th {\n",
       "        text-align: right;\n",
       "    }\n",
       "</style>\n",
       "<table border=\"1\" class=\"dataframe\">\n",
       "  <thead>\n",
       "    <tr style=\"text-align: right;\">\n",
       "      <th></th>\n",
       "      <th>mental_problems</th>\n",
       "      <th>intensity_lvl</th>\n",
       "    </tr>\n",
       "  </thead>\n",
       "  <tbody>\n",
       "    <tr>\n",
       "      <th>0</th>\n",
       "      <td>anxiety</td>\n",
       "      <td>7.0</td>\n",
       "    </tr>\n",
       "    <tr>\n",
       "      <th>1</th>\n",
       "      <td>anxiety</td>\n",
       "      <td>7.0</td>\n",
       "    </tr>\n",
       "    <tr>\n",
       "      <th>2</th>\n",
       "      <td>anxiety</td>\n",
       "      <td>8.0</td>\n",
       "    </tr>\n",
       "    <tr>\n",
       "      <th>3</th>\n",
       "      <td>anxiety</td>\n",
       "      <td>4.0</td>\n",
       "    </tr>\n",
       "    <tr>\n",
       "      <th>4</th>\n",
       "      <td>anxiety</td>\n",
       "      <td>5.0</td>\n",
       "    </tr>\n",
       "  </tbody>\n",
       "</table>\n",
       "</div>"
      ],
      "text/plain": [
       "  mental_problems  intensity_lvl\n",
       "0         anxiety            7.0\n",
       "1         anxiety            7.0\n",
       "2         anxiety            8.0\n",
       "3         anxiety            4.0\n",
       "4         anxiety            5.0"
      ]
     },
     "execution_count": 64,
     "metadata": {},
     "output_type": "execute_result"
    }
   ],
   "source": [
    "# get subset of data\n",
    "mental_health_problems = sample_music_data[['anxiety','depression','insomnia','ocd']]\n",
    "\n",
    "# melt dataset\n",
    "melt_mental_health_problems = mental_health_problems.melt(var_name='mental_problems',value_name='intensity_lvl')\n",
    "melt_mental_health_problems.head()"
   ]
  },
  {
   "cell_type": "code",
   "execution_count": 65,
   "metadata": {},
   "outputs": [
    {
     "data": {
      "image/png": "[encoded data removed]",
      "text/plain": [
       "<Figure size 1000x600 with 1 Axes>"
      ]
     },
     "metadata": {},
     "output_type": "display_data"
    }
   ],
   "source": [
    "# make boxplot\n",
    "plt.figure(figsize=(10,6))\n",
    "MentalBoxPlot = sns.boxplot(data=melt_mental_health_problems,y='intensity_lvl',x='mental_problems',\n",
    "            hue='mental_problems',palette=['tomato','royalblue','whitesmoke','#F5DEB3'])\n",
    "\n",
    "# make annotation on median values\n",
    "    # get the medians\n",
    "median_values = melt_mental_health_problems.groupby('mental_problems')['intensity_lvl'].median().values\n",
    "\n",
    "    # enumerate the values\n",
    "for i,median in enumerate(median_values):\n",
    "    MentalBoxPlot.annotate(f'{median:.2f}',xy=(i,median),xytext=(0,5),\n",
    "                           textcoords='offset points', fontsize=14,\n",
    "                           ha='center', va='bottom', color='black')\n",
    "\n",
    "# title and axes labels\n",
    "plt.title(\"Frequency of Experiencing Mental Health Problems\",fontsize=16)\n",
    "plt.xlabel('Mental Health Problems',fontsize=14,labelpad=8)\n",
    "plt.ylabel('Frequency Level',fontsize=14)\n",
    "plt.grid(alpha=0.2,zorder=0)\n",
    "plt.show()"
   ]
  },
  {
   "cell_type": "markdown",
   "metadata": {},
   "source": [
    "##### Insights:\n",
    "- Based on the boxplot, the most frequent mental health problem experienced by the population was anxiety with median of 7. \n",
    "- Following anxiety, depression was also quite frequent with the median of 5.\n",
    "- Meanwhile frequency of experiencing insomnia and ocd were relatively not as severe as the other two."
   ]
  },
  {
   "cell_type": "markdown",
   "metadata": {},
   "source": [
    "#### 3. Correlation Between Mental Health Problems"
   ]
  },
  {
   "cell_type": "code",
   "execution_count": 66,
   "metadata": {},
   "outputs": [
    {
     "data": {
      "text/plain": [
       "Text(0.5, 1.015, 'Spearman Correlation of Mental Health Problems')"
      ]
     },
     "execution_count": 66,
     "metadata": {},
     "output_type": "execute_result"
    },
    {
     "data": {
      "image/png": "[encoded data removed]",
      "text/plain": [
       "<Figure size 1000x600 with 2 Axes>"
      ]
     },
     "metadata": {},
     "output_type": "display_data"
    }
   ],
   "source": [
    "# copy from original dataset\n",
    "correlation_data = sample_music_data.copy()\n",
    "\n",
    "# make subset of dataframe from all variables involved in analysis\n",
    "corr_data_subset_1 = correlation_data[['anxiety','depression','insomnia','ocd']]\n",
    "\n",
    "# create correlation matrix: use spearman since we're dealing with all ordinal data\n",
    "corr_matrix_1 = corr_data_subset_1.corr()\n",
    "\n",
    "# make heatmap\n",
    "plt.figure(figsize=(10,6))\n",
    "sns.heatmap(corr_matrix_1,annot=True,cmap='OrRd')\n",
    "plt.title('Spearman Correlation of Mental Health Problems',y=1.015)"
   ]
  },
  {
   "cell_type": "markdown",
   "metadata": {},
   "source": [
    "##### Insights:\n",
    "The Spearman correlation heatmap illustrates the relationships between the frequencies of experiencing mental health problems: anxiety, depression, insomnia, and OCD.   \n",
    "\n",
    "The strongest correlation was observed between anxiety and depression, with a correlation coefficient of 0.47. \n",
    "\n",
    "This was followed by a correlation of 0.38 between insomnia and depression, and a correlation of 0.34 between anxiety and OCD. \n",
    "\n",
    "These results suggest that individuals often experience combinations of mental health problems, and addressing one issue—such as anxiety—may positively impact the others, like depression or OCD."
   ]
  },
  {
   "cell_type": "markdown",
   "metadata": {},
   "source": [
    "#### 4. Musical Exploration and Mental Health: Insights from Frequency Distributions"
   ]
  },
  {
   "cell_type": "code",
   "execution_count": 67,
   "metadata": {},
   "outputs": [
    {
     "data": {
      "text/html": [
       "<div>\n",
       "<style scoped>\n",
       "    .dataframe tbody tr th:only-of-type {\n",
       "        vertical-align: middle;\n",
       "    }\n",
       "\n",
       "    .dataframe tbody tr th {\n",
       "        vertical-align: top;\n",
       "    }\n",
       "\n",
       "    .dataframe thead th {\n",
       "        text-align: right;\n",
       "    }\n",
       "</style>\n",
       "<table border=\"1\" class=\"dataframe\">\n",
       "  <thead>\n",
       "    <tr style=\"text-align: right;\">\n",
       "      <th></th>\n",
       "      <th>exploratory</th>\n",
       "      <th>mental_problems</th>\n",
       "      <th>intensity_lvl</th>\n",
       "    </tr>\n",
       "  </thead>\n",
       "  <tbody>\n",
       "    <tr>\n",
       "      <th>0</th>\n",
       "      <td>No</td>\n",
       "      <td>anxiety</td>\n",
       "      <td>7.0</td>\n",
       "    </tr>\n",
       "    <tr>\n",
       "      <th>1</th>\n",
       "      <td>Yes</td>\n",
       "      <td>anxiety</td>\n",
       "      <td>7.0</td>\n",
       "    </tr>\n",
       "    <tr>\n",
       "      <th>2</th>\n",
       "      <td>Yes</td>\n",
       "      <td>anxiety</td>\n",
       "      <td>8.0</td>\n",
       "    </tr>\n",
       "    <tr>\n",
       "      <th>3</th>\n",
       "      <td>Yes</td>\n",
       "      <td>anxiety</td>\n",
       "      <td>4.0</td>\n",
       "    </tr>\n",
       "    <tr>\n",
       "      <th>4</th>\n",
       "      <td>Yes</td>\n",
       "      <td>anxiety</td>\n",
       "      <td>5.0</td>\n",
       "    </tr>\n",
       "  </tbody>\n",
       "</table>\n",
       "</div>"
      ],
      "text/plain": [
       "  exploratory mental_problems  intensity_lvl\n",
       "0          No         anxiety            7.0\n",
       "1         Yes         anxiety            7.0\n",
       "2         Yes         anxiety            8.0\n",
       "3         Yes         anxiety            4.0\n",
       "4         Yes         anxiety            5.0"
      ]
     },
     "execution_count": 67,
     "metadata": {},
     "output_type": "execute_result"
    }
   ],
   "source": [
    "# get subset of data\n",
    "mental_health_problems_2 = sample_music_data[['exploratory','anxiety','depression','insomnia','ocd']]\n",
    "\n",
    "# melt dataset\n",
    "melt_mental_health_problems_2 = mental_health_problems_2.melt(id_vars='exploratory',var_name='mental_problems',value_name='intensity_lvl')\n",
    "melt_mental_health_problems_2.head()"
   ]
  },
  {
   "cell_type": "code",
   "execution_count": 68,
   "metadata": {},
   "outputs": [
    {
     "data": {
      "image/png": "[encoded data removed]",
      "text/plain": [
       "<Figure size 800x600 with 1 Axes>"
      ]
     },
     "metadata": {},
     "output_type": "display_data"
    }
   ],
   "source": [
    "# create violin plot\n",
    "plt.figure(figsize=(8,6))\n",
    "ViolinPlot = sns.violinplot(data=melt_mental_health_problems_2,y='intensity_lvl',x='mental_problems',\n",
    "            hue='exploratory',split=True,inner='quartile')\n",
    "\n",
    "# title and axes labels\n",
    "plt.title(\"Frequency of Mental Health Problems Based on Music Exploratory Behavior\",fontsize=16)\n",
    "plt.xlabel('Mental Health Problems',fontsize=14,labelpad=8)\n",
    "plt.ylabel('Frequency Level',fontsize=14)\n",
    "plt.grid(alpha=0.2,zorder=0)\n",
    "plt.show()"
   ]
  },
  {
   "cell_type": "markdown",
   "metadata": {},
   "source": [
    "##### Insights:\n",
    "Based on the violin plot, the people who listened to more various types of musics (exploratory = yes or music explorers) had higher frequency of experiencing mental health problems, except of anxiety, than those who did not. This finding indicated a either possible positive or negative impact of exploring music genres on mental health problems.\n",
    "\n",
    "Here is more detailed analysis based on median:\n",
    "- For music explorers, the median frequency of anxiety was less by 0.5, at 6.5.\n",
    "- In case of depression and insomnia, the music explorers have higher median frequency by 1 (depression = 6, insomnia = 4).\n",
    "- Finally OCD had the same median frequency for both music explorers and non-music explorers at 2, but music explorers had higher Q3 by 1, at 5."
   ]
  },
  {
   "cell_type": "markdown",
   "metadata": {},
   "source": [
    "#### 5. Evaluation of Music Effect on Mental Health Based on Music Exploratory Behavior"
   ]
  },
  {
   "cell_type": "code",
   "execution_count": 69,
   "metadata": {},
   "outputs": [
    {
     "data": {
      "text/html": [
       "<div>\n",
       "<style scoped>\n",
       "    .dataframe tbody tr th:only-of-type {\n",
       "        vertical-align: middle;\n",
       "    }\n",
       "\n",
       "    .dataframe tbody tr th {\n",
       "        vertical-align: top;\n",
       "    }\n",
       "\n",
       "    .dataframe thead th {\n",
       "        text-align: right;\n",
       "    }\n",
       "</style>\n",
       "<table border=\"1\" class=\"dataframe\">\n",
       "  <thead>\n",
       "    <tr style=\"text-align: right;\">\n",
       "      <th></th>\n",
       "      <th>exploratory</th>\n",
       "      <th>music_effects</th>\n",
       "      <th>total_population</th>\n",
       "    </tr>\n",
       "  </thead>\n",
       "  <tbody>\n",
       "    <tr>\n",
       "      <th>0</th>\n",
       "      <td>No</td>\n",
       "      <td>Improve</td>\n",
       "      <td>132</td>\n",
       "    </tr>\n",
       "    <tr>\n",
       "      <th>1</th>\n",
       "      <td>No</td>\n",
       "      <td>No effect</td>\n",
       "      <td>68</td>\n",
       "    </tr>\n",
       "    <tr>\n",
       "      <th>2</th>\n",
       "      <td>No</td>\n",
       "      <td>Worsen</td>\n",
       "      <td>7</td>\n",
       "    </tr>\n",
       "    <tr>\n",
       "      <th>3</th>\n",
       "      <td>Yes</td>\n",
       "      <td>Improve</td>\n",
       "      <td>410</td>\n",
       "    </tr>\n",
       "    <tr>\n",
       "      <th>4</th>\n",
       "      <td>Yes</td>\n",
       "      <td>No effect</td>\n",
       "      <td>101</td>\n",
       "    </tr>\n",
       "    <tr>\n",
       "      <th>5</th>\n",
       "      <td>Yes</td>\n",
       "      <td>Worsen</td>\n",
       "      <td>10</td>\n",
       "    </tr>\n",
       "  </tbody>\n",
       "</table>\n",
       "</div>"
      ],
      "text/plain": [
       "  exploratory music_effects  total_population\n",
       "0          No       Improve               132\n",
       "1          No     No effect                68\n",
       "2          No        Worsen                 7\n",
       "3         Yes       Improve               410\n",
       "4         Yes     No effect               101\n",
       "5         Yes        Worsen                10"
      ]
     },
     "execution_count": 69,
     "metadata": {},
     "output_type": "execute_result"
    }
   ],
   "source": [
    "# get subset exploratory, music effect, and total population count\n",
    "explore_vs_mental_state = music_mental_data.groupby(['exploratory','music_effects']).size().reset_index().rename(columns={0:'total_population'})\n",
    "explore_vs_mental_state"
   ]
  },
  {
   "cell_type": "code",
   "execution_count": 70,
   "metadata": {},
   "outputs": [
    {
     "data": {
      "text/html": [
       "<div>\n",
       "<style scoped>\n",
       "    .dataframe tbody tr th:only-of-type {\n",
       "        vertical-align: middle;\n",
       "    }\n",
       "\n",
       "    .dataframe tbody tr th {\n",
       "        vertical-align: top;\n",
       "    }\n",
       "\n",
       "    .dataframe thead th {\n",
       "        text-align: right;\n",
       "    }\n",
       "</style>\n",
       "<table border=\"1\" class=\"dataframe\">\n",
       "  <thead>\n",
       "    <tr style=\"text-align: right;\">\n",
       "      <th></th>\n",
       "      <th>exploratory</th>\n",
       "      <th>music_effects</th>\n",
       "      <th>total_population</th>\n",
       "      <th>sum_population</th>\n",
       "      <th>percentage</th>\n",
       "    </tr>\n",
       "  </thead>\n",
       "  <tbody>\n",
       "    <tr>\n",
       "      <th>0</th>\n",
       "      <td>No</td>\n",
       "      <td>Improve</td>\n",
       "      <td>132</td>\n",
       "      <td>207</td>\n",
       "      <td>63.77</td>\n",
       "    </tr>\n",
       "    <tr>\n",
       "      <th>1</th>\n",
       "      <td>No</td>\n",
       "      <td>No effect</td>\n",
       "      <td>68</td>\n",
       "      <td>207</td>\n",
       "      <td>32.85</td>\n",
       "    </tr>\n",
       "    <tr>\n",
       "      <th>2</th>\n",
       "      <td>No</td>\n",
       "      <td>Worsen</td>\n",
       "      <td>7</td>\n",
       "      <td>207</td>\n",
       "      <td>3.38</td>\n",
       "    </tr>\n",
       "    <tr>\n",
       "      <th>3</th>\n",
       "      <td>Yes</td>\n",
       "      <td>Improve</td>\n",
       "      <td>410</td>\n",
       "      <td>521</td>\n",
       "      <td>78.69</td>\n",
       "    </tr>\n",
       "    <tr>\n",
       "      <th>4</th>\n",
       "      <td>Yes</td>\n",
       "      <td>No effect</td>\n",
       "      <td>101</td>\n",
       "      <td>521</td>\n",
       "      <td>19.39</td>\n",
       "    </tr>\n",
       "    <tr>\n",
       "      <th>5</th>\n",
       "      <td>Yes</td>\n",
       "      <td>Worsen</td>\n",
       "      <td>10</td>\n",
       "      <td>521</td>\n",
       "      <td>1.92</td>\n",
       "    </tr>\n",
       "  </tbody>\n",
       "</table>\n",
       "</div>"
      ],
      "text/plain": [
       "  exploratory music_effects  total_population  sum_population  percentage\n",
       "0          No       Improve               132             207       63.77\n",
       "1          No     No effect                68             207       32.85\n",
       "2          No        Worsen                 7             207        3.38\n",
       "3         Yes       Improve               410             521       78.69\n",
       "4         Yes     No effect               101             521       19.39\n",
       "5         Yes        Worsen                10             521        1.92"
      ]
     },
     "execution_count": 70,
     "metadata": {},
     "output_type": "execute_result"
    }
   ],
   "source": [
    "# use transform to find total population for exploratory categories\n",
    "explore_vs_mental_state['sum_population'] = explore_vs_mental_state.groupby('exploratory')['total_population'].transform('sum')\n",
    "# calculate the percentages\n",
    "explore_vs_mental_state['percentage'] = round(explore_vs_mental_state['total_population']*100/explore_vs_mental_state['sum_population'],2)\n",
    "\n",
    "explore_vs_mental_state"
   ]
  },
  {
   "cell_type": "code",
   "execution_count": 71,
   "metadata": {},
   "outputs": [
    {
     "data": {
      "text/html": [
       "<div>\n",
       "<style scoped>\n",
       "    .dataframe tbody tr th:only-of-type {\n",
       "        vertical-align: middle;\n",
       "    }\n",
       "\n",
       "    .dataframe tbody tr th {\n",
       "        vertical-align: top;\n",
       "    }\n",
       "\n",
       "    .dataframe thead th {\n",
       "        text-align: right;\n",
       "    }\n",
       "</style>\n",
       "<table border=\"1\" class=\"dataframe\">\n",
       "  <thead>\n",
       "    <tr style=\"text-align: right;\">\n",
       "      <th>music_effects</th>\n",
       "      <th>Improve</th>\n",
       "      <th>No effect</th>\n",
       "      <th>Worsen</th>\n",
       "    </tr>\n",
       "    <tr>\n",
       "      <th>exploratory</th>\n",
       "      <th></th>\n",
       "      <th></th>\n",
       "      <th></th>\n",
       "    </tr>\n",
       "  </thead>\n",
       "  <tbody>\n",
       "    <tr>\n",
       "      <th>No</th>\n",
       "      <td>63.77</td>\n",
       "      <td>32.85</td>\n",
       "      <td>3.38</td>\n",
       "    </tr>\n",
       "    <tr>\n",
       "      <th>Yes</th>\n",
       "      <td>78.69</td>\n",
       "      <td>19.39</td>\n",
       "      <td>1.92</td>\n",
       "    </tr>\n",
       "  </tbody>\n",
       "</table>\n",
       "</div>"
      ],
      "text/plain": [
       "music_effects  Improve  No effect  Worsen\n",
       "exploratory                              \n",
       "No               63.77      32.85    3.38\n",
       "Yes              78.69      19.39    1.92"
      ]
     },
     "execution_count": 71,
     "metadata": {},
     "output_type": "execute_result"
    }
   ],
   "source": [
    "# Step 3: Pivot the data to get a wide format for stacked bars\n",
    "df_pivot = explore_vs_mental_state.pivot(index='exploratory', columns='music_effects', values='percentage')\n",
    "df_pivot"
   ]
  },
  {
   "cell_type": "code",
   "execution_count": 105,
   "metadata": {},
   "outputs": [
    {
     "data": {
      "image/png": "[encoded data removed]",
      "text/plain": [
       "<Figure size 800x600 with 1 Axes>"
      ]
     },
     "metadata": {},
     "output_type": "display_data"
    }
   ],
   "source": [
    "# Plotting the stacked bar chart using Matplotlib\n",
    "df_pivot.plot(kind='bar',stacked=True, color=['steelblue', 'lightgray', 'salmon'], figsize=(8, 6),zorder=2)\n",
    "\n",
    "# Customize the plotL axes labels, title, legend\n",
    "plt.xlabel('Explored Various Music Genres',fontsize=14)\n",
    "plt.xticks(rotation=0)\n",
    "plt.ylabel('Percentage (%)', fontsize=14)\n",
    "plt.title('Impact of Exploring Various Music Genres on Mental Health',fontsize=16)\n",
    "\n",
    "# to emphasize the difference, add horizontal line\n",
    "# plt.axhline(y=63.7, color='lightcoral', linestyle='--')\n",
    "# plt.axhline(y=78.7, color='lightcoral', linestyle='--')\n",
    "\n",
    "# set y limit\n",
    "plt.ylim(0,110)\n",
    "\n",
    "# set legend location (above the plot, inside chart)\n",
    "plt.legend(loc='upper center',frameon=False,borderaxespad=0,\n",
    "           ncol = 3,fontsize=12)\n",
    "\n",
    "\n",
    "# Show the plot\n",
    "plt.tight_layout()\n",
    "plt.grid(alpha=0.2,zorder=0)\n",
    "plt.show()"
   ]
  },
  {
   "cell_type": "markdown",
   "metadata": {},
   "source": [
    "##### Insights:\n",
    "- Exploring various music genres group has a more positive impact on mental health by increasing the proportion of improvements and reducing cases of no effect or worsening.\n",
    "- We need to confirm whether these potential associations are statistically significant or not with Chi-Square Test. "
   ]
  },
  {
   "cell_type": "markdown",
   "metadata": {},
   "source": [
    "#### 6. Statistical Analyses to Confirm Impact of Music Exploratory Behavior on Mental Health"
   ]
  },
  {
   "cell_type": "markdown",
   "metadata": {},
   "source": [
    "##### 6a. Chi-Square Test Between Music Exploratory and Music Effect\n",
    "- This test is suitable for checking relationship of the variables since music exploratory behavior is a binary variable while music effect is an ordinal variable.\n",
    "\n",
    "$H_0$ : There is no significant association between music exploratory behavior and music effects.\n",
    "\n",
    "$H_1$ : There is a significant association between music exploratory behavior and music effects."
   ]
  },
  {
   "cell_type": "code",
   "execution_count": 90,
   "metadata": {},
   "outputs": [
    {
     "name": "stdout",
     "output_type": "stream",
     "text": [
      "\n",
      "Chi-Square Statistic: 18.86006040789641\n",
      "P-Value: 8.027677522422912e-05\n",
      "Degrees of Freedom: 2\n",
      "Expected Frequencies Table:\n",
      "[[127.2739726  361.7260274 ]\n",
      " [ 39.30136986 111.69863014]\n",
      " [  4.42465753  12.57534247]]\n",
      "There is a significant association between music exploratory behavior and music effect (reject null hypothesis).\n"
     ]
    }
   ],
   "source": [
    "# generate the contingency table\n",
    "contingency_table = pd.crosstab(sample_music_data['music_effects'], sample_music_data['exploratory'], \n",
    "                                 rownames=['Music Effect'], \n",
    "                                 colnames=['Music Exploratory Behavior'])\n",
    "\n",
    "# Perform the Chi-Square test\n",
    "chi2_stat, p_value, dof, expected = chi2_contingency(contingency_table)\n",
    "\n",
    "# Print the results\n",
    "print(f\"\\nChi-Square Statistic: {chi2_stat}\")\n",
    "print(f\"P-Value: {p_value}\")\n",
    "print(f\"Degrees of Freedom: {dof}\")\n",
    "print(f\"Expected Frequencies Table:\\n{expected}\")\n",
    "\n",
    "# Interpret the result\n",
    "alpha = 0.05  # significance level\n",
    "if p_value < alpha:\n",
    "    print(\"There is a significant association between music exploratory behavior and music effect (reject null hypothesis).\")\n",
    "else:\n",
    "    print(\"There is no significant association (fail to reject null hypothesis).\")"
   ]
  },
  {
   "cell_type": "markdown",
   "metadata": {},
   "source": [
    "##### Insights:\n",
    "Based on the comparison plot and subsequent analysis, there is a significant association between music exploratory behavior and music effect on mental health. Specifically, individuals who engage in music exploration are positively correlated with better music effects, indicating that exploring various music genres is associated with improved mental health outcomes."
   ]
  },
  {
   "cell_type": "markdown",
   "metadata": {},
   "source": [
    "##### 6b. Kruskal-Wallis H Test Between Frequency of Experiencing Anxiety and Music Effect\n",
    "- Both frequency of experiencing mental health problems and music effects are ordinal variables. They have no consistent and meaningful intervals between the categories.\n",
    "- Therefore, Kruskal-Wallis H Test is suitable since it does not assume normality and suitable for ordinal data.\n",
    "\n",
    "$H_0$ : There is no significant difference in the frequency of experiencing mental health problems among different music effect categories.\n",
    "\n",
    "$H_1$ : At least one music effect category has a different frequency of experiencing mental health problems."
   ]
  },
  {
   "cell_type": "code",
   "execution_count": 106,
   "metadata": {},
   "outputs": [
    {
     "data": {
      "image/png": "[encoded data removed]",
      "text/plain": [
       "<Figure size 640x480 with 1 Axes>"
      ]
     },
     "metadata": {},
     "output_type": "display_data"
    }
   ],
   "source": [
    "\n",
    "# Make distribution plot\n",
    "palette = {'Improve': 'steelblue', 'No effect': 'lightgray', 'Worsen': 'salmon'}\n",
    "BoxPlot = sns.boxplot(data=sample_music_data,x='music_effects',y='anxiety',order=['Worsen','No effect','Improve'],\n",
    "            hue='music_effects',palette=palette)\n",
    "\n",
    "# make annotation on median values\n",
    "    # get the medians\n",
    "median_vals = sample_music_data.groupby('music_effects')['anxiety'].median().values\n",
    "\n",
    "    # enumerate the values\n",
    "for i,median in enumerate(median_vals):\n",
    "    BoxPlot.annotate(f'{median:.2f}',xy=(i,median),xytext=(0,5),\n",
    "                           textcoords='offset points', fontsize=14,\n",
    "                           ha='center', va='bottom', color='black')"
   ]
  },
  {
   "cell_type": "code",
   "execution_count": 98,
   "metadata": {},
   "outputs": [
    {
     "name": "stdout",
     "output_type": "stream",
     "text": [
      "Kruskal-Wallis H-test statistic: 9.982908373876295\n",
      "P-value: 0.006795774976165818\n",
      "There is a significant difference in anxiety frequencies across music effect categories (reject null hypothesis).\n"
     ]
    }
   ],
   "source": [
    "# Group the data based on music effects\n",
    "groups = [sample_music_data['anxiety'][sample_music_data['music_effects'] == effect].values for effect in sample_music_data['music_effects'].unique()]\n",
    "\n",
    "# Perform the Kruskal-Wallis test\n",
    "stat, p_value = kruskal(*groups)\n",
    "\n",
    "# Print the results\n",
    "print(f\"Kruskal-Wallis H-test statistic: {stat}\")\n",
    "print(f\"P-value: {p_value}\")\n",
    "\n",
    "# Interpret the results\n",
    "alpha = 0.05\n",
    "if p_value < alpha:\n",
    "    print(\"There is a significant difference in anxiety frequencies across music effect categories (reject null hypothesis).\")\n",
    "else:\n",
    "    print(\"There is no significant difference in anxiety frequencies (fail to reject null hypothesis).\")"
   ]
  },
  {
   "cell_type": "markdown",
   "metadata": {},
   "source": [
    "##### Insights:\n",
    "Based on the comparison plot and subsequent analysis, there is a significant association between music exploratory behavior and music effect on mental health. Specifically, individuals who engage in music exploration are positively correlated with better music effects, indicating that exploring various music genres is associated with improved mental health outcomes."
   ]
  },
  {
   "cell_type": "markdown",
   "metadata": {},
   "source": [
    "#### 7. Association Between Music Genres and Anxiety"
   ]
  },
  {
   "cell_type": "markdown",
   "metadata": {},
   "source": [
    "##### Data Wrangling Process"
   ]
  },
  {
   "cell_type": "code",
   "execution_count": 73,
   "metadata": {},
   "outputs": [
    {
     "name": "stdout",
     "output_type": "stream",
     "text": [
      "<class 'pandas.core.frame.DataFrame'>\n",
      "RangeIndex: 657 entries, 0 to 656\n",
      "Data columns (total 30 columns):\n",
      " #   Column                      Non-Null Count  Dtype  \n",
      "---  ------                      --------------  -----  \n",
      " 0   age                         657 non-null    float64\n",
      " 1   primary_streaming_service   657 non-null    object \n",
      " 2   hours_per_day               657 non-null    float64\n",
      " 3   while_working               657 non-null    object \n",
      " 4   instrumentalist             657 non-null    object \n",
      " 5   composer                    657 non-null    object \n",
      " 6   fav_genre                   657 non-null    object \n",
      " 7   exploratory                 657 non-null    object \n",
      " 8   foreign_languages           657 non-null    object \n",
      " 9   frequency_classical         657 non-null    int64  \n",
      " 10  frequency_country           657 non-null    int64  \n",
      " 11  frequency_edm               657 non-null    int64  \n",
      " 12  frequency_folk              657 non-null    int64  \n",
      " 13  frequency_gospel            657 non-null    int64  \n",
      " 14  frequency_hip_hop           657 non-null    int64  \n",
      " 15  frequency_jazz              657 non-null    int64  \n",
      " 16  frequency_k_pop             657 non-null    int64  \n",
      " 17  frequency_latin             657 non-null    int64  \n",
      " 18  frequency_lofi              657 non-null    int64  \n",
      " 19  frequency_metal             657 non-null    int64  \n",
      " 20  frequency_pop               657 non-null    int64  \n",
      " 21  frequency_r&b               657 non-null    int64  \n",
      " 22  frequency_rap               657 non-null    int64  \n",
      " 23  frequency_rock              657 non-null    int64  \n",
      " 24  frequency_video_game_music  657 non-null    int64  \n",
      " 25  anxiety                     657 non-null    float64\n",
      " 26  depression                  657 non-null    float64\n",
      " 27  insomnia                    657 non-null    float64\n",
      " 28  ocd                         657 non-null    float64\n",
      " 29  music_effects               657 non-null    object \n",
      "dtypes: float64(6), int64(16), object(8)\n",
      "memory usage: 154.1+ KB\n"
     ]
    }
   ],
   "source": [
    "# copy dataset for mapping\n",
    "mapped_mental_data = sample_music_data.copy()\n",
    "\n",
    "# create mapping\n",
    "frequency_mapping = {'Never':1,'Rarely':2,'Sometimes':3,'Very frequently': 4}\n",
    "\n",
    "# apply mapping\n",
    "mapped_mental_data = mapped_mental_data.replace(frequency_mapping)\n",
    "\n",
    "# get subset data where anxiety level <= 5\n",
    "# mapped_mental_data = mapped_mental_data[mapped_mental_data['anxiety']<=5]\n",
    "\n",
    "mapped_mental_data.info()"
   ]
  },
  {
   "cell_type": "code",
   "execution_count": 74,
   "metadata": {},
   "outputs": [
    {
     "data": {
      "text/plain": [
       "['Classical',\n",
       " 'Hip hop',\n",
       " 'Lofi',\n",
       " 'Metal',\n",
       " 'Pop',\n",
       " 'R&B',\n",
       " 'Rap',\n",
       " 'Rock',\n",
       " 'Video game music']"
      ]
     },
     "execution_count": 74,
     "metadata": {},
     "output_type": "execute_result"
    }
   ],
   "source": [
    "# initiate a list to store the frequently heard music genre in the population\n",
    "frequent_listened_music = []\n",
    "def frequency_music_finder(mapped_mental_data):\n",
    "    for col in mapped_mental_data.iloc[:,9:25].columns:\n",
    "        # frequencies= {'Never':1,'Rarely':2,'Sometimes':3,'Very frequently': 4}\n",
    "        count_all_frequencies = mapped_mental_data[col].value_counts().reset_index()\n",
    "\n",
    "        # to find very frequently heard music, find proportion of sum of \"3\" and \"4\"/sum all\n",
    "        very_frequent_fraction = count_all_frequencies.loc[(count_all_frequencies[col]==4)|(count_all_frequencies[col]==3),'count'].sum()/count_all_frequencies.values.sum()\n",
    "\n",
    "        # if the proportion is more than 0.4: chosen since higher threshold gives less music genre options\n",
    "        if very_frequent_fraction > 0.35:\n",
    "            # format the col name for filter music genres\n",
    "            col_name_changer = col.replace('frequency_',\"\").replace('_',' ').capitalize()\n",
    "            if col_name_changer == 'R&b':\n",
    "                frequent_listened_music.append('R&B')\n",
    "            else:\n",
    "                frequent_listened_music.append(col_name_changer)\n",
    "    return frequent_listened_music\n",
    "\n",
    "frequent_listened_music = frequency_music_finder(mapped_mental_data)\n",
    "frequent_listened_music"
   ]
  },
  {
   "cell_type": "code",
   "execution_count": 75,
   "metadata": {},
   "outputs": [
    {
     "data": {
      "text/html": [
       "<div>\n",
       "<style scoped>\n",
       "    .dataframe tbody tr th:only-of-type {\n",
       "        vertical-align: middle;\n",
       "    }\n",
       "\n",
       "    .dataframe tbody tr th {\n",
       "        vertical-align: top;\n",
       "    }\n",
       "\n",
       "    .dataframe thead th {\n",
       "        text-align: right;\n",
       "    }\n",
       "</style>\n",
       "<table border=\"1\" class=\"dataframe\">\n",
       "  <thead>\n",
       "    <tr style=\"text-align: right;\">\n",
       "      <th></th>\n",
       "      <th>fav_genre</th>\n",
       "      <th>music_effects</th>\n",
       "      <th>anxiety</th>\n",
       "      <th>depression</th>\n",
       "      <th>insomnia</th>\n",
       "      <th>ocd</th>\n",
       "    </tr>\n",
       "  </thead>\n",
       "  <tbody>\n",
       "    <tr>\n",
       "      <th>0</th>\n",
       "      <td>Classical</td>\n",
       "      <td>Improve</td>\n",
       "      <td>5.161290</td>\n",
       "      <td>4.322581</td>\n",
       "      <td>4.161290</td>\n",
       "      <td>2.516129</td>\n",
       "    </tr>\n",
       "    <tr>\n",
       "      <th>1</th>\n",
       "      <td>Classical</td>\n",
       "      <td>No effect</td>\n",
       "      <td>4.846154</td>\n",
       "      <td>3.538462</td>\n",
       "      <td>2.692308</td>\n",
       "      <td>2.076923</td>\n",
       "    </tr>\n",
       "    <tr>\n",
       "      <th>2</th>\n",
       "      <td>Classical</td>\n",
       "      <td>Worsen</td>\n",
       "      <td>7.000000</td>\n",
       "      <td>9.000000</td>\n",
       "      <td>2.000000</td>\n",
       "      <td>8.000000</td>\n",
       "    </tr>\n",
       "    <tr>\n",
       "      <th>3</th>\n",
       "      <td>Hip hop</td>\n",
       "      <td>Improve</td>\n",
       "      <td>6.366667</td>\n",
       "      <td>5.666667</td>\n",
       "      <td>3.100000</td>\n",
       "      <td>3.100000</td>\n",
       "    </tr>\n",
       "    <tr>\n",
       "      <th>4</th>\n",
       "      <td>Hip hop</td>\n",
       "      <td>No effect</td>\n",
       "      <td>5.500000</td>\n",
       "      <td>6.750000</td>\n",
       "      <td>4.750000</td>\n",
       "      <td>0.250000</td>\n",
       "    </tr>\n",
       "    <tr>\n",
       "      <th>5</th>\n",
       "      <td>Lofi</td>\n",
       "      <td>Improve</td>\n",
       "      <td>6.100000</td>\n",
       "      <td>6.600000</td>\n",
       "      <td>5.600000</td>\n",
       "      <td>3.400000</td>\n",
       "    </tr>\n",
       "    <tr>\n",
       "      <th>6</th>\n",
       "      <td>Metal</td>\n",
       "      <td>Improve</td>\n",
       "      <td>6.190476</td>\n",
       "      <td>5.396825</td>\n",
       "      <td>4.714286</td>\n",
       "      <td>2.682540</td>\n",
       "    </tr>\n",
       "    <tr>\n",
       "      <th>7</th>\n",
       "      <td>Metal</td>\n",
       "      <td>No effect</td>\n",
       "      <td>3.800000</td>\n",
       "      <td>3.750000</td>\n",
       "      <td>4.050000</td>\n",
       "      <td>1.550000</td>\n",
       "    </tr>\n",
       "    <tr>\n",
       "      <th>8</th>\n",
       "      <td>Pop</td>\n",
       "      <td>Improve</td>\n",
       "      <td>6.391026</td>\n",
       "      <td>4.570513</td>\n",
       "      <td>3.320513</td>\n",
       "      <td>2.891026</td>\n",
       "    </tr>\n",
       "    <tr>\n",
       "      <th>9</th>\n",
       "      <td>Pop</td>\n",
       "      <td>No effect</td>\n",
       "      <td>5.500000</td>\n",
       "      <td>4.545455</td>\n",
       "      <td>3.454545</td>\n",
       "      <td>3.227273</td>\n",
       "    </tr>\n",
       "    <tr>\n",
       "      <th>10</th>\n",
       "      <td>Pop</td>\n",
       "      <td>Worsen</td>\n",
       "      <td>7.750000</td>\n",
       "      <td>6.000000</td>\n",
       "      <td>4.250000</td>\n",
       "      <td>4.000000</td>\n",
       "    </tr>\n",
       "    <tr>\n",
       "      <th>11</th>\n",
       "      <td>R&amp;B</td>\n",
       "      <td>Improve</td>\n",
       "      <td>5.772727</td>\n",
       "      <td>4.045455</td>\n",
       "      <td>3.090909</td>\n",
       "      <td>3.318182</td>\n",
       "    </tr>\n",
       "    <tr>\n",
       "      <th>12</th>\n",
       "      <td>R&amp;B</td>\n",
       "      <td>No effect</td>\n",
       "      <td>5.125000</td>\n",
       "      <td>4.500000</td>\n",
       "      <td>2.875000</td>\n",
       "      <td>1.250000</td>\n",
       "    </tr>\n",
       "    <tr>\n",
       "      <th>13</th>\n",
       "      <td>Rap</td>\n",
       "      <td>Improve</td>\n",
       "      <td>5.470588</td>\n",
       "      <td>4.352941</td>\n",
       "      <td>2.411765</td>\n",
       "      <td>3.117647</td>\n",
       "    </tr>\n",
       "    <tr>\n",
       "      <th>14</th>\n",
       "      <td>Rap</td>\n",
       "      <td>No effect</td>\n",
       "      <td>5.000000</td>\n",
       "      <td>4.666667</td>\n",
       "      <td>3.000000</td>\n",
       "      <td>5.000000</td>\n",
       "    </tr>\n",
       "    <tr>\n",
       "      <th>15</th>\n",
       "      <td>Rap</td>\n",
       "      <td>Worsen</td>\n",
       "      <td>4.000000</td>\n",
       "      <td>0.000000</td>\n",
       "      <td>0.000000</td>\n",
       "      <td>2.000000</td>\n",
       "    </tr>\n",
       "    <tr>\n",
       "      <th>16</th>\n",
       "      <td>Rock</td>\n",
       "      <td>Improve</td>\n",
       "      <td>6.972222</td>\n",
       "      <td>5.615741</td>\n",
       "      <td>3.930556</td>\n",
       "      <td>3.050926</td>\n",
       "    </tr>\n",
       "    <tr>\n",
       "      <th>17</th>\n",
       "      <td>Rock</td>\n",
       "      <td>No effect</td>\n",
       "      <td>5.750000</td>\n",
       "      <td>5.318182</td>\n",
       "      <td>4.090909</td>\n",
       "      <td>2.659091</td>\n",
       "    </tr>\n",
       "    <tr>\n",
       "      <th>18</th>\n",
       "      <td>Rock</td>\n",
       "      <td>Worsen</td>\n",
       "      <td>5.714286</td>\n",
       "      <td>9.000000</td>\n",
       "      <td>4.714286</td>\n",
       "      <td>2.285714</td>\n",
       "    </tr>\n",
       "    <tr>\n",
       "      <th>19</th>\n",
       "      <td>Video game music</td>\n",
       "      <td>Improve</td>\n",
       "      <td>5.538462</td>\n",
       "      <td>4.076923</td>\n",
       "      <td>3.192308</td>\n",
       "      <td>2.500000</td>\n",
       "    </tr>\n",
       "    <tr>\n",
       "      <th>20</th>\n",
       "      <td>Video game music</td>\n",
       "      <td>No effect</td>\n",
       "      <td>5.923077</td>\n",
       "      <td>4.692308</td>\n",
       "      <td>4.615385</td>\n",
       "      <td>2.000000</td>\n",
       "    </tr>\n",
       "    <tr>\n",
       "      <th>21</th>\n",
       "      <td>Video game music</td>\n",
       "      <td>Worsen</td>\n",
       "      <td>8.250000</td>\n",
       "      <td>6.500000</td>\n",
       "      <td>6.250000</td>\n",
       "      <td>2.750000</td>\n",
       "    </tr>\n",
       "  </tbody>\n",
       "</table>\n",
       "</div>"
      ],
      "text/plain": [
       "           fav_genre music_effects   anxiety  depression  insomnia       ocd\n",
       "0          Classical       Improve  5.161290    4.322581  4.161290  2.516129\n",
       "1          Classical     No effect  4.846154    3.538462  2.692308  2.076923\n",
       "2          Classical        Worsen  7.000000    9.000000  2.000000  8.000000\n",
       "3            Hip hop       Improve  6.366667    5.666667  3.100000  3.100000\n",
       "4            Hip hop     No effect  5.500000    6.750000  4.750000  0.250000\n",
       "5               Lofi       Improve  6.100000    6.600000  5.600000  3.400000\n",
       "6              Metal       Improve  6.190476    5.396825  4.714286  2.682540\n",
       "7              Metal     No effect  3.800000    3.750000  4.050000  1.550000\n",
       "8                Pop       Improve  6.391026    4.570513  3.320513  2.891026\n",
       "9                Pop     No effect  5.500000    4.545455  3.454545  3.227273\n",
       "10               Pop        Worsen  7.750000    6.000000  4.250000  4.000000\n",
       "11               R&B       Improve  5.772727    4.045455  3.090909  3.318182\n",
       "12               R&B     No effect  5.125000    4.500000  2.875000  1.250000\n",
       "13               Rap       Improve  5.470588    4.352941  2.411765  3.117647\n",
       "14               Rap     No effect  5.000000    4.666667  3.000000  5.000000\n",
       "15               Rap        Worsen  4.000000    0.000000  0.000000  2.000000\n",
       "16              Rock       Improve  6.972222    5.615741  3.930556  3.050926\n",
       "17              Rock     No effect  5.750000    5.318182  4.090909  2.659091\n",
       "18              Rock        Worsen  5.714286    9.000000  4.714286  2.285714\n",
       "19  Video game music       Improve  5.538462    4.076923  3.192308  2.500000\n",
       "20  Video game music     No effect  5.923077    4.692308  4.615385  2.000000\n",
       "21  Video game music        Worsen  8.250000    6.500000  6.250000  2.750000"
      ]
     },
     "execution_count": 75,
     "metadata": {},
     "output_type": "execute_result"
    }
   ],
   "source": [
    "# create filter for music genre based on created list\n",
    "music_genre_filter = mapped_mental_data['fav_genre'].isin(frequent_listened_music)\n",
    "\n",
    "# make group dataset\n",
    "avg_mental_problems = mapped_mental_data[music_genre_filter].groupby(['fav_genre','music_effects'])[['anxiety','depression','insomnia','ocd']].mean().reset_index()\n",
    "avg_mental_problems\n"
   ]
  },
  {
   "cell_type": "markdown",
   "metadata": {},
   "source": [
    "##### Comparison Plot Among Music Genres and Correlation Test for Anxiety"
   ]
  },
  {
   "cell_type": "code",
   "execution_count": 76,
   "metadata": {},
   "outputs": [
    {
     "data": {
      "image/png": "[encoded data removed]",
      "text/plain": [
       "<Figure size 1000x600 with 1 Axes>"
      ]
     },
     "metadata": {},
     "output_type": "display_data"
    }
   ],
   "source": [
    "# plot for anxiety\n",
    "plt.figure(figsize=(10,6))\n",
    "palette = {'Improve': 'steelblue', 'No effect': 'lightgray', 'Worsen': 'salmon'}\n",
    "clusterbar = sns.barplot(data=avg_mental_problems,x='fav_genre',y='anxiety',\n",
    "            hue='music_effects',palette=palette,\n",
    "            order = ['R&B','Lofi','Metal','Hip hop','Rap','Rock','Classical','Pop','Video game music'])\n",
    "\n",
    "# Customize the plot\n",
    "plt.title('Top Music Genres for Managing Anxiety and Their Impact',y=1.025,fontsize=16)\n",
    "plt.xlabel('Music Genres',rotation = 0,fontsize=14)\n",
    "clusterbar.xaxis.set_label_coords(0.5,-0.08)\n",
    "plt.ylabel('Average Anxiety Level',fontsize=14)\n",
    "clusterbar.yaxis.set_label_coords(-0.05,0.5)\n",
    "\n",
    "plt.xticks(rotation=18)\n",
    "plt.legend(title='Music Effect',loc='upper left',frameon=False, borderaxespad = 0, ncol = 1)\n",
    "\n",
    "plt.show()"
   ]
  },
  {
   "cell_type": "code",
   "execution_count": 77,
   "metadata": {},
   "outputs": [
    {
     "name": "stdout",
     "output_type": "stream",
     "text": [
      "<class 'pandas.core.frame.DataFrame'>\n",
      "RangeIndex: 657 entries, 0 to 656\n",
      "Data columns (total 30 columns):\n",
      " #   Column                      Non-Null Count  Dtype  \n",
      "---  ------                      --------------  -----  \n",
      " 0   age                         657 non-null    float64\n",
      " 1   primary_streaming_service   657 non-null    object \n",
      " 2   hours_per_day               657 non-null    float64\n",
      " 3   while_working               657 non-null    object \n",
      " 4   instrumentalist             657 non-null    object \n",
      " 5   composer                    657 non-null    object \n",
      " 6   fav_genre                   657 non-null    object \n",
      " 7   exploratory                 657 non-null    object \n",
      " 8   foreign_languages           657 non-null    object \n",
      " 9   frequency_classical         657 non-null    int64  \n",
      " 10  frequency_country           657 non-null    int64  \n",
      " 11  frequency_edm               657 non-null    int64  \n",
      " 12  frequency_folk              657 non-null    int64  \n",
      " 13  frequency_gospel            657 non-null    int64  \n",
      " 14  frequency_hip_hop           657 non-null    int64  \n",
      " 15  frequency_jazz              657 non-null    int64  \n",
      " 16  frequency_k_pop             657 non-null    int64  \n",
      " 17  frequency_latin             657 non-null    int64  \n",
      " 18  frequency_lofi              657 non-null    int64  \n",
      " 19  frequency_metal             657 non-null    int64  \n",
      " 20  frequency_pop               657 non-null    int64  \n",
      " 21  frequency_r&b               657 non-null    int64  \n",
      " 22  frequency_rap               657 non-null    int64  \n",
      " 23  frequency_rock              657 non-null    int64  \n",
      " 24  frequency_video_game_music  657 non-null    int64  \n",
      " 25  anxiety                     657 non-null    float64\n",
      " 26  depression                  657 non-null    float64\n",
      " 27  insomnia                    657 non-null    float64\n",
      " 28  ocd                         657 non-null    float64\n",
      " 29  music_effects               657 non-null    int64  \n",
      "dtypes: float64(6), int64(17), object(7)\n",
      "memory usage: 154.1+ KB\n"
     ]
    }
   ],
   "source": [
    "# create mapping\n",
    "frequency_mapping = {'Never':1,'Rarely':2,'Sometimes':3,'Very frequently': 4}\n",
    "music_effect_mapping = {'No effect':0,'Improve':1,'Worsen':-1}\n",
    "\n",
    "# apply mapping\n",
    "mapped_mental_data_2 = mapped_mental_data.replace(frequency_mapping)\n",
    "mapped_mental_data_2 = mapped_mental_data_2.replace(music_effect_mapping)\n",
    "\n",
    "# mapped_mental_data_2 = sample_music_data.replace(music_effect_mapping)\n",
    "\n",
    "mapped_mental_data_2.info()"
   ]
  },
  {
   "cell_type": "code",
   "execution_count": 86,
   "metadata": {},
   "outputs": [],
   "source": [
    "# check statistical significance with spearman test\n",
    "def spearman_test(col1,col2,df):\n",
    "    spearman_corr, p_value = spearmanr(df[col1], df[col2])\n",
    "    # only print the statistically significant relationship results\n",
    "    if p_value < 0.05:\n",
    "        print(f\"Spearman Corr: {col1} and {col2}\")\n",
    "        print(f'corr-value: {round(spearman_corr,3)}, p-value: {round(p_value,3)}')\n",
    "        print(f'statistically significant relationship')\n",
    "        print(\"\")\n"
   ]
  },
  {
   "cell_type": "code",
   "execution_count": 87,
   "metadata": {},
   "outputs": [
    {
     "name": "stdout",
     "output_type": "stream",
     "text": [
      "Spearman Corr: frequency_pop and anxiety\n",
      "corr-value: 0.084, p-value: 0.03\n",
      "statistically significant relationship\n",
      "\n",
      "Spearman Corr: frequency_rock and anxiety\n",
      "corr-value: 0.115, p-value: 0.003\n",
      "statistically significant relationship\n",
      "\n"
     ]
    }
   ],
   "source": [
    "# show all correlation result between anxiety and frequency hearing music genre\n",
    "for genre in frequent_listened_music:\n",
    "    genre_name_changer = 'frequency_' + genre.replace(' ','_').lower()\n",
    "    spearman_test(genre_name_changer,'anxiety',mapped_mental_data_2)"
   ]
  },
  {
   "cell_type": "markdown",
   "metadata": {},
   "source": [
    "##### Insights:\n",
    "- more frequent listening to pop and rock is associated with higher anxiety level."
   ]
  },
  {
   "cell_type": "markdown",
   "metadata": {},
   "source": [
    "#### 8. Correlation Between Music Effect and Frequency of Hearing Music Genres"
   ]
  },
  {
   "cell_type": "code",
   "execution_count": 80,
   "metadata": {},
   "outputs": [
    {
     "data": {
      "text/plain": [
       "(array([0.5, 1.5, 2.5, 3.5, 4.5, 5.5, 6.5, 7.5, 8.5]),\n",
       " [Text(0.5, 0, 'lofi'),\n",
       "  Text(1.5, 0, 'metal'),\n",
       "  Text(2.5, 0, 'hip_hop'),\n",
       "  Text(3.5, 0, 'r&b'),\n",
       "  Text(4.5, 0, 'pop'),\n",
       "  Text(5.5, 0, 'rock'),\n",
       "  Text(6.5, 0, 'classical'),\n",
       "  Text(7.5, 0, 'video_game_music'),\n",
       "  Text(8.5, 0, 'music_effects')])"
      ]
     },
     "execution_count": 80,
     "metadata": {},
     "output_type": "execute_result"
    },
    {
     "data": {
      "image/png": "[encoded data removed]",
      "text/plain": [
       "<Figure size 1000x600 with 2 Axes>"
      ]
     },
     "metadata": {},
     "output_type": "display_data"
    }
   ],
   "source": [
    "# whether favorite music genres are associated with lower anxiety level\n",
    "# copy from original dataset\n",
    "correlation_data = mapped_mental_data_2.copy()\n",
    "correlation_data.columns = correlation_data.columns.str.replace('frequency_',\"\",regex=False)\n",
    "\n",
    "custom_pastel_cmap = sns.light_palette(\"seagreen\", as_cmap=True)\n",
    "\n",
    "# make subset of dataframe from all variables involved in analysis\n",
    "corr_data_subset_2 = correlation_data[['lofi','metal','hip_hop','r&b',\n",
    "                                        'pop','rock','classical','video_game_music',\n",
    "                                           'music_effects']]\n",
    "\n",
    "# create correlation matrix: use spearman since we're dealing with all ordinal data\n",
    "corr_matrix_2 = corr_data_subset_2.corr(method='spearman')\n",
    "\n",
    "# make heatmap\n",
    "plt.figure(figsize=(10,6))\n",
    "sns.heatmap(corr_matrix_2,annot=True,cmap=custom_pastel_cmap)\n",
    "plt.title('Spearman Correlation Between Music Genres and Music Effect',y=1.015)\n",
    "plt.xticks(rotation =18)"
   ]
  },
  {
   "cell_type": "code",
   "execution_count": 88,
   "metadata": {},
   "outputs": [
    {
     "name": "stdout",
     "output_type": "stream",
     "text": [
      "Spearman Corr: frequency_pop and music_effects\n",
      "corr-value: 0.082, p-value: 0.036\n",
      "statistically significant relationship\n",
      "\n",
      "Spearman Corr: frequency_r&b and music_effects\n",
      "corr-value: 0.116, p-value: 0.003\n",
      "statistically significant relationship\n",
      "\n"
     ]
    }
   ],
   "source": [
    "# show all results spearman between frequency hearing music \n",
    "for genre in frequent_listened_music:\n",
    "    genre_name_changer = 'frequency_' + genre.replace(' ','_').lower()\n",
    "    spearman_test(genre_name_changer,'music_effects',mapped_mental_data_2)"
   ]
  },
  {
   "cell_type": "markdown",
   "metadata": {},
   "source": [
    "##### Insight:\n",
    "- more frequent listening to pop and R&B is associated with improved mental health."
   ]
  },
  {
   "cell_type": "markdown",
   "metadata": {},
   "source": [
    "# IV. Conclusion and Future Directions"
   ]
  },
  {
   "cell_type": "markdown",
   "metadata": {},
   "source": [
    "This study found that both listening behavior and music genres are associated with improved mental health. We focused our analysis on anxiety, as it is the most frequently reported issue in the population and is positively associated with other mental health problems. Therefore, addressing anxiety could potentially alleviate other related mental health issues.\n",
    "\n",
    "Our conclusions are organized into three parts:\n",
    "\n",
    "**Benefits of Being a Music Explorer**  \n",
    "The violin plot indicated a potential dual effect of music exploratory behavior on mental health, as reflected in higher median anxiety frequency levels. This finding suggests that exploratory behavior may improve mental health for some individuals while not benefiting others. However, the comparison plot showed a positive association between music exploratory behavior and mental effects, confirmed as statistically significant by the Chi-Squared Test. This implies that engaging in music exploration might enhance overall well-being.\n",
    "\n",
    "**Music Genres to Avoid**  \n",
    "Our Spearman correlation tests revealed that frequent listening to emotionally intense pop and rock music is associated with higher anxiety levels. Therefore, these genres may be best avoided during times of heightened anxiety.  \n",
    "\n",
    "**Potential Music Genres to Try**  \n",
    "Conversely, listening to R&B and energetic, cheerful pop music is linked to positive mental health effects. The diverse nature of pop music, spanning from upbeat to melancholic tunes, may provide valuable emotional support. Additionally, genres such as R&B, Lofi, metal, and hip-hop do not appear to worsen mental health. While the potential positive effects of these genres on reducing anxiety are not conclusively supported by correlation tests, increased listening to R&B is correlated with improved mental well-being.\n",
    "\n",
    "**Future Directions**  \n",
    "Further research is needed to fully understand the complex relationship between music genres and mental health. Additionally, this study is limited to a population aged 40 years and younger. Expanding the study to include a more balanced sample across various age groups could enhance the investigation and lead to more tailored recommendations.\n",
    "\n"
   ]
  }
 ],
 "metadata": {
  "kernelspec": {
   "display_name": "base",
   "language": "python",
   "name": "python3"
  },
  "language_info": {
   "codemirror_mode": {
    "name": "ipython",
    "version": 3
   },
   "file_extension": ".py",
   "mimetype": "text/x-python",
   "name": "python",
   "nbconvert_exporter": "python",
   "pygments_lexer": "ipython3",
   "version": "3.11.8"
  }
 },
 "nbformat": 4,
 "nbformat_minor": 2
}
